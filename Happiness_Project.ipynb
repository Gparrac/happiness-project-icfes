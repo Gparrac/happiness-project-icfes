{
  "nbformat": 4,
  "nbformat_minor": 0,
  "metadata": {
    "colab": {
      "name": "Happiness-Project.ipynb",
      "provenance": [],
      "collapsed_sections": [],
      "toc_visible": true,
      "mount_file_id": "1QqwwyiCeGQ16fS7z8qZKFM0RQGW9qtOk",
      "authorship_tag": "ABX9TyN3HCVdUaixMMKxmEkb+p2+",
      "include_colab_link": true
    },
    "kernelspec": {
      "name": "python3",
      "display_name": "Python 3"
    },
    "language_info": {
      "name": "python"
    }
  },
  "cells": [
    {
      "cell_type": "markdown",
      "metadata": {
        "id": "view-in-github",
        "colab_type": "text"
      },
      "source": [
        "<a href=\"https://colab.research.google.com/github/Gparrac/happiness-project-icfes/blob/main/Happiness_Project.ipynb\" target=\"_parent\"><img src=\"https://colab.research.google.com/assets/colab-badge.svg\" alt=\"Open In Colab\"/></a>"
      ]
    },
    {
      "cell_type": "markdown",
      "source": [
        "\n",
        "\n",
        "# Marco teorico\n",
        "En este proyecto se buscó implementar un indice de felicidad a nivel nacional en el pais de Colombia para cada participante de las pruebas de estado Icfes mediante el acceso a datos abiertos del gobierno. De esta forma se buscaron correlacionar variables que estuvieran envolucradas en el nivel economico, de salud y bienestar con el que convive la persona para lograr una respuesta más acertada.\n",
        "## Requerimientos \n",
        "Se utilizaron las siguientes librerias para la limpieza de datos\n",
        "\n"
      ],
      "metadata": {
        "id": "OF2pt0XO7xA6"
      }
    },
    {
      "cell_type": "code",
      "source": [
        "import pandas as pa\n",
        "import numpy as np\n",
        "from datetime import datetime\n",
        "from dateutil.relativedelta import relativedelta\n",
        "import matplotlib.pyplot as plt"
      ],
      "metadata": {
        "id": "ieiTmeKtMY5k"
      },
      "execution_count": null,
      "outputs": []
    },
    {
      "cell_type": "markdown",
      "source": [
        "A cotinuación se observan el dataset para la practica\n",
        "\n"
      ],
      "metadata": {
        "id": "E-TK2ETYQMzK"
      }
    },
    {
      "cell_type": "code",
      "source": [
        "df=pa.read_csv('/content/drive/MyDrive/test-icfes.csv')\n",
        "\n",
        "\n",
        "df\n"
      ],
      "metadata": {
        "colab": {
          "base_uri": "https://localhost:8080/",
          "height": 622
        },
        "id": "ijVKuWeSNx6R",
        "outputId": "a5b49032-a80a-4d2e-9c19-654334f75ed6"
      },
      "execution_count": null,
      "outputs": [
        {
          "output_type": "execute_result",
          "data": {
            "text/plain": [
              "      ESTU_TIPODOCUMENTO ESTU_NACIONALIDAD ESTU_GENERO ESTU_FECHANACIMIENTO  \\\n",
              "0                     TI          COLOMBIA           F             1/9/2004   \n",
              "1                     TI          COLOMBIA           M             4/6/2005   \n",
              "2                     TI          COLOMBIA           F            3/28/2004   \n",
              "3                     TI          COLOMBIA           F            4/28/2005   \n",
              "4                     TI          COLOMBIA           F           11/16/2004   \n",
              "...                  ...               ...         ...                  ...   \n",
              "65530                 TI          COLOMBIA           F            8/13/2003   \n",
              "65531                 TI          COLOMBIA           F            1/18/2005   \n",
              "65532                 TI          COLOMBIA           F            1/19/2005   \n",
              "65533                 TI          COLOMBIA           M            2/15/2004   \n",
              "65534                 TI          COLOMBIA           F             2/7/2005   \n",
              "\n",
              "       PERIODO  ESTU_CONSECUTIVO ESTU_ESTUDIANTE ESTU_PAIS_RESIDE  \\\n",
              "0        20214  SB11202140617020      ESTUDIANTE         COLOMBIA   \n",
              "1        20214  SB11202140623058      ESTUDIANTE         COLOMBIA   \n",
              "2        20214  SB11202140623602      ESTUDIANTE         COLOMBIA   \n",
              "3        20214  SB11202140622167      ESTUDIANTE         COLOMBIA   \n",
              "4        20214  SB11202140633564      ESTUDIANTE         COLOMBIA   \n",
              "...        ...               ...             ...              ...   \n",
              "65530    20214  SB11202140146443      ESTUDIANTE         COLOMBIA   \n",
              "65531    20214  SB11202140140680      ESTUDIANTE         COLOMBIA   \n",
              "65532    20214  SB11202140142142      ESTUDIANTE         COLOMBIA   \n",
              "65533    20214  SB11202140126772      ESTUDIANTE         COLOMBIA   \n",
              "65534    20214  SB11202140015959      ESTUDIANTE         COLOMBIA   \n",
              "\n",
              "      ESTU_TIENEETNIA ESTU_DEPTO_RESIDE  ...  PERCENTIL_INGLES DESEMP_INGLES  \\\n",
              "0                  No            CALDAS  ...               6.0            A-   \n",
              "1                  No            CALDAS  ...              30.0            A-   \n",
              "2                  No            CALDAS  ...              29.0            A-   \n",
              "3                  No         RISARALDA  ...              38.0            A-   \n",
              "4                  No            CALDAS  ...              55.0            A1   \n",
              "...               ...               ...  ...               ...           ...   \n",
              "65530              No         SANTANDER  ...              23.0            A-   \n",
              "65531              No         ANTIOQUIA  ...              40.0            A-   \n",
              "65532              No         SANTANDER  ...              98.0            B1   \n",
              "65533              No         ANTIOQUIA  ...              74.0            A1   \n",
              "65534              No         ANTIOQUIA  ...              67.0            A1   \n",
              "\n",
              "       PUNT_GLOBAL PERCENTIL_GLOBAL PERCENTIL_ESPECIAL_GLOBAL  \\\n",
              "0              158              2.0                       NaN   \n",
              "1              179              8.0                       NaN   \n",
              "2              239             47.0                       NaN   \n",
              "3              232             42.0                       NaN   \n",
              "4              270             69.0                       NaN   \n",
              "...            ...              ...                       ...   \n",
              "65530          236             45.0                       NaN   \n",
              "65531          297             83.0                       NaN   \n",
              "65532          347             97.0                       NaN   \n",
              "65533          250             55.0                       NaN   \n",
              "65534          302             85.0                       NaN   \n",
              "\n",
              "      ESTU_INSE_INDIVIDUAL ESTU_NSE_INDIVIDUAL ESTU_NSE_ESTABLECIMIENTO  \\\n",
              "0      487,650,763,110,128                 2.0                      2.0   \n",
              "1      476,571,760,959,939                 2.0                      2.0   \n",
              "2      375,028,573,315,051                 1.0                      1.0   \n",
              "3      440,924,029,308,367                 2.0                      1.0   \n",
              "4      515,977,592,692,164                 3.0                      2.0   \n",
              "...                    ...                 ...                      ...   \n",
              "65530  403,870,033,280,962                 1.0                      2.0   \n",
              "65531  478,065,710,698,455                 2.0                      2.0   \n",
              "65532  712,381,541,486,684                 4.0                      4.0   \n",
              "65533  613,444,950,954,104                 3.0                      3.0   \n",
              "65534  565,541,102,705,071                 3.0                      3.0   \n",
              "\n",
              "      ESTU_ESTADOINVESTIGACION         ESTU_GENERACION-E  \n",
              "0                     PUBLICAR  GENERACION E - GRATUIDAD  \n",
              "1                     PUBLICAR                        NO  \n",
              "2                     PUBLICAR                        NO  \n",
              "3                     PUBLICAR  GENERACION E - GRATUIDAD  \n",
              "4                     PUBLICAR  GENERACION E - GRATUIDAD  \n",
              "...                        ...                       ...  \n",
              "65530                 PUBLICAR                        NO  \n",
              "65531                 PUBLICAR  GENERACION E - GRATUIDAD  \n",
              "65532                 PUBLICAR                        NO  \n",
              "65533                 PUBLICAR                        NO  \n",
              "65534                 PUBLICAR                        NO  \n",
              "\n",
              "[65535 rows x 82 columns]"
            ],
            "text/html": [
              "\n",
              "  <div id=\"df-3846f666-2739-4b3c-8b70-9d69dd164b31\">\n",
              "    <div class=\"colab-df-container\">\n",
              "      <div>\n",
              "<style scoped>\n",
              "    .dataframe tbody tr th:only-of-type {\n",
              "        vertical-align: middle;\n",
              "    }\n",
              "\n",
              "    .dataframe tbody tr th {\n",
              "        vertical-align: top;\n",
              "    }\n",
              "\n",
              "    .dataframe thead th {\n",
              "        text-align: right;\n",
              "    }\n",
              "</style>\n",
              "<table border=\"1\" class=\"dataframe\">\n",
              "  <thead>\n",
              "    <tr style=\"text-align: right;\">\n",
              "      <th></th>\n",
              "      <th>ESTU_TIPODOCUMENTO</th>\n",
              "      <th>ESTU_NACIONALIDAD</th>\n",
              "      <th>ESTU_GENERO</th>\n",
              "      <th>ESTU_FECHANACIMIENTO</th>\n",
              "      <th>PERIODO</th>\n",
              "      <th>ESTU_CONSECUTIVO</th>\n",
              "      <th>ESTU_ESTUDIANTE</th>\n",
              "      <th>ESTU_PAIS_RESIDE</th>\n",
              "      <th>ESTU_TIENEETNIA</th>\n",
              "      <th>ESTU_DEPTO_RESIDE</th>\n",
              "      <th>...</th>\n",
              "      <th>PERCENTIL_INGLES</th>\n",
              "      <th>DESEMP_INGLES</th>\n",
              "      <th>PUNT_GLOBAL</th>\n",
              "      <th>PERCENTIL_GLOBAL</th>\n",
              "      <th>PERCENTIL_ESPECIAL_GLOBAL</th>\n",
              "      <th>ESTU_INSE_INDIVIDUAL</th>\n",
              "      <th>ESTU_NSE_INDIVIDUAL</th>\n",
              "      <th>ESTU_NSE_ESTABLECIMIENTO</th>\n",
              "      <th>ESTU_ESTADOINVESTIGACION</th>\n",
              "      <th>ESTU_GENERACION-E</th>\n",
              "    </tr>\n",
              "  </thead>\n",
              "  <tbody>\n",
              "    <tr>\n",
              "      <th>0</th>\n",
              "      <td>TI</td>\n",
              "      <td>COLOMBIA</td>\n",
              "      <td>F</td>\n",
              "      <td>1/9/2004</td>\n",
              "      <td>20214</td>\n",
              "      <td>SB11202140617020</td>\n",
              "      <td>ESTUDIANTE</td>\n",
              "      <td>COLOMBIA</td>\n",
              "      <td>No</td>\n",
              "      <td>CALDAS</td>\n",
              "      <td>...</td>\n",
              "      <td>6.0</td>\n",
              "      <td>A-</td>\n",
              "      <td>158</td>\n",
              "      <td>2.0</td>\n",
              "      <td>NaN</td>\n",
              "      <td>487,650,763,110,128</td>\n",
              "      <td>2.0</td>\n",
              "      <td>2.0</td>\n",
              "      <td>PUBLICAR</td>\n",
              "      <td>GENERACION E - GRATUIDAD</td>\n",
              "    </tr>\n",
              "    <tr>\n",
              "      <th>1</th>\n",
              "      <td>TI</td>\n",
              "      <td>COLOMBIA</td>\n",
              "      <td>M</td>\n",
              "      <td>4/6/2005</td>\n",
              "      <td>20214</td>\n",
              "      <td>SB11202140623058</td>\n",
              "      <td>ESTUDIANTE</td>\n",
              "      <td>COLOMBIA</td>\n",
              "      <td>No</td>\n",
              "      <td>CALDAS</td>\n",
              "      <td>...</td>\n",
              "      <td>30.0</td>\n",
              "      <td>A-</td>\n",
              "      <td>179</td>\n",
              "      <td>8.0</td>\n",
              "      <td>NaN</td>\n",
              "      <td>476,571,760,959,939</td>\n",
              "      <td>2.0</td>\n",
              "      <td>2.0</td>\n",
              "      <td>PUBLICAR</td>\n",
              "      <td>NO</td>\n",
              "    </tr>\n",
              "    <tr>\n",
              "      <th>2</th>\n",
              "      <td>TI</td>\n",
              "      <td>COLOMBIA</td>\n",
              "      <td>F</td>\n",
              "      <td>3/28/2004</td>\n",
              "      <td>20214</td>\n",
              "      <td>SB11202140623602</td>\n",
              "      <td>ESTUDIANTE</td>\n",
              "      <td>COLOMBIA</td>\n",
              "      <td>No</td>\n",
              "      <td>CALDAS</td>\n",
              "      <td>...</td>\n",
              "      <td>29.0</td>\n",
              "      <td>A-</td>\n",
              "      <td>239</td>\n",
              "      <td>47.0</td>\n",
              "      <td>NaN</td>\n",
              "      <td>375,028,573,315,051</td>\n",
              "      <td>1.0</td>\n",
              "      <td>1.0</td>\n",
              "      <td>PUBLICAR</td>\n",
              "      <td>NO</td>\n",
              "    </tr>\n",
              "    <tr>\n",
              "      <th>3</th>\n",
              "      <td>TI</td>\n",
              "      <td>COLOMBIA</td>\n",
              "      <td>F</td>\n",
              "      <td>4/28/2005</td>\n",
              "      <td>20214</td>\n",
              "      <td>SB11202140622167</td>\n",
              "      <td>ESTUDIANTE</td>\n",
              "      <td>COLOMBIA</td>\n",
              "      <td>No</td>\n",
              "      <td>RISARALDA</td>\n",
              "      <td>...</td>\n",
              "      <td>38.0</td>\n",
              "      <td>A-</td>\n",
              "      <td>232</td>\n",
              "      <td>42.0</td>\n",
              "      <td>NaN</td>\n",
              "      <td>440,924,029,308,367</td>\n",
              "      <td>2.0</td>\n",
              "      <td>1.0</td>\n",
              "      <td>PUBLICAR</td>\n",
              "      <td>GENERACION E - GRATUIDAD</td>\n",
              "    </tr>\n",
              "    <tr>\n",
              "      <th>4</th>\n",
              "      <td>TI</td>\n",
              "      <td>COLOMBIA</td>\n",
              "      <td>F</td>\n",
              "      <td>11/16/2004</td>\n",
              "      <td>20214</td>\n",
              "      <td>SB11202140633564</td>\n",
              "      <td>ESTUDIANTE</td>\n",
              "      <td>COLOMBIA</td>\n",
              "      <td>No</td>\n",
              "      <td>CALDAS</td>\n",
              "      <td>...</td>\n",
              "      <td>55.0</td>\n",
              "      <td>A1</td>\n",
              "      <td>270</td>\n",
              "      <td>69.0</td>\n",
              "      <td>NaN</td>\n",
              "      <td>515,977,592,692,164</td>\n",
              "      <td>3.0</td>\n",
              "      <td>2.0</td>\n",
              "      <td>PUBLICAR</td>\n",
              "      <td>GENERACION E - GRATUIDAD</td>\n",
              "    </tr>\n",
              "    <tr>\n",
              "      <th>...</th>\n",
              "      <td>...</td>\n",
              "      <td>...</td>\n",
              "      <td>...</td>\n",
              "      <td>...</td>\n",
              "      <td>...</td>\n",
              "      <td>...</td>\n",
              "      <td>...</td>\n",
              "      <td>...</td>\n",
              "      <td>...</td>\n",
              "      <td>...</td>\n",
              "      <td>...</td>\n",
              "      <td>...</td>\n",
              "      <td>...</td>\n",
              "      <td>...</td>\n",
              "      <td>...</td>\n",
              "      <td>...</td>\n",
              "      <td>...</td>\n",
              "      <td>...</td>\n",
              "      <td>...</td>\n",
              "      <td>...</td>\n",
              "      <td>...</td>\n",
              "    </tr>\n",
              "    <tr>\n",
              "      <th>65530</th>\n",
              "      <td>TI</td>\n",
              "      <td>COLOMBIA</td>\n",
              "      <td>F</td>\n",
              "      <td>8/13/2003</td>\n",
              "      <td>20214</td>\n",
              "      <td>SB11202140146443</td>\n",
              "      <td>ESTUDIANTE</td>\n",
              "      <td>COLOMBIA</td>\n",
              "      <td>No</td>\n",
              "      <td>SANTANDER</td>\n",
              "      <td>...</td>\n",
              "      <td>23.0</td>\n",
              "      <td>A-</td>\n",
              "      <td>236</td>\n",
              "      <td>45.0</td>\n",
              "      <td>NaN</td>\n",
              "      <td>403,870,033,280,962</td>\n",
              "      <td>1.0</td>\n",
              "      <td>2.0</td>\n",
              "      <td>PUBLICAR</td>\n",
              "      <td>NO</td>\n",
              "    </tr>\n",
              "    <tr>\n",
              "      <th>65531</th>\n",
              "      <td>TI</td>\n",
              "      <td>COLOMBIA</td>\n",
              "      <td>F</td>\n",
              "      <td>1/18/2005</td>\n",
              "      <td>20214</td>\n",
              "      <td>SB11202140140680</td>\n",
              "      <td>ESTUDIANTE</td>\n",
              "      <td>COLOMBIA</td>\n",
              "      <td>No</td>\n",
              "      <td>ANTIOQUIA</td>\n",
              "      <td>...</td>\n",
              "      <td>40.0</td>\n",
              "      <td>A-</td>\n",
              "      <td>297</td>\n",
              "      <td>83.0</td>\n",
              "      <td>NaN</td>\n",
              "      <td>478,065,710,698,455</td>\n",
              "      <td>2.0</td>\n",
              "      <td>2.0</td>\n",
              "      <td>PUBLICAR</td>\n",
              "      <td>GENERACION E - GRATUIDAD</td>\n",
              "    </tr>\n",
              "    <tr>\n",
              "      <th>65532</th>\n",
              "      <td>TI</td>\n",
              "      <td>COLOMBIA</td>\n",
              "      <td>F</td>\n",
              "      <td>1/19/2005</td>\n",
              "      <td>20214</td>\n",
              "      <td>SB11202140142142</td>\n",
              "      <td>ESTUDIANTE</td>\n",
              "      <td>COLOMBIA</td>\n",
              "      <td>No</td>\n",
              "      <td>SANTANDER</td>\n",
              "      <td>...</td>\n",
              "      <td>98.0</td>\n",
              "      <td>B1</td>\n",
              "      <td>347</td>\n",
              "      <td>97.0</td>\n",
              "      <td>NaN</td>\n",
              "      <td>712,381,541,486,684</td>\n",
              "      <td>4.0</td>\n",
              "      <td>4.0</td>\n",
              "      <td>PUBLICAR</td>\n",
              "      <td>NO</td>\n",
              "    </tr>\n",
              "    <tr>\n",
              "      <th>65533</th>\n",
              "      <td>TI</td>\n",
              "      <td>COLOMBIA</td>\n",
              "      <td>M</td>\n",
              "      <td>2/15/2004</td>\n",
              "      <td>20214</td>\n",
              "      <td>SB11202140126772</td>\n",
              "      <td>ESTUDIANTE</td>\n",
              "      <td>COLOMBIA</td>\n",
              "      <td>No</td>\n",
              "      <td>ANTIOQUIA</td>\n",
              "      <td>...</td>\n",
              "      <td>74.0</td>\n",
              "      <td>A1</td>\n",
              "      <td>250</td>\n",
              "      <td>55.0</td>\n",
              "      <td>NaN</td>\n",
              "      <td>613,444,950,954,104</td>\n",
              "      <td>3.0</td>\n",
              "      <td>3.0</td>\n",
              "      <td>PUBLICAR</td>\n",
              "      <td>NO</td>\n",
              "    </tr>\n",
              "    <tr>\n",
              "      <th>65534</th>\n",
              "      <td>TI</td>\n",
              "      <td>COLOMBIA</td>\n",
              "      <td>F</td>\n",
              "      <td>2/7/2005</td>\n",
              "      <td>20214</td>\n",
              "      <td>SB11202140015959</td>\n",
              "      <td>ESTUDIANTE</td>\n",
              "      <td>COLOMBIA</td>\n",
              "      <td>No</td>\n",
              "      <td>ANTIOQUIA</td>\n",
              "      <td>...</td>\n",
              "      <td>67.0</td>\n",
              "      <td>A1</td>\n",
              "      <td>302</td>\n",
              "      <td>85.0</td>\n",
              "      <td>NaN</td>\n",
              "      <td>565,541,102,705,071</td>\n",
              "      <td>3.0</td>\n",
              "      <td>3.0</td>\n",
              "      <td>PUBLICAR</td>\n",
              "      <td>NO</td>\n",
              "    </tr>\n",
              "  </tbody>\n",
              "</table>\n",
              "<p>65535 rows × 82 columns</p>\n",
              "</div>\n",
              "      <button class=\"colab-df-convert\" onclick=\"convertToInteractive('df-3846f666-2739-4b3c-8b70-9d69dd164b31')\"\n",
              "              title=\"Convert this dataframe to an interactive table.\"\n",
              "              style=\"display:none;\">\n",
              "        \n",
              "  <svg xmlns=\"http://www.w3.org/2000/svg\" height=\"24px\"viewBox=\"0 0 24 24\"\n",
              "       width=\"24px\">\n",
              "    <path d=\"M0 0h24v24H0V0z\" fill=\"none\"/>\n",
              "    <path d=\"M18.56 5.44l.94 2.06.94-2.06 2.06-.94-2.06-.94-.94-2.06-.94 2.06-2.06.94zm-11 1L8.5 8.5l.94-2.06 2.06-.94-2.06-.94L8.5 2.5l-.94 2.06-2.06.94zm10 10l.94 2.06.94-2.06 2.06-.94-2.06-.94-.94-2.06-.94 2.06-2.06.94z\"/><path d=\"M17.41 7.96l-1.37-1.37c-.4-.4-.92-.59-1.43-.59-.52 0-1.04.2-1.43.59L10.3 9.45l-7.72 7.72c-.78.78-.78 2.05 0 2.83L4 21.41c.39.39.9.59 1.41.59.51 0 1.02-.2 1.41-.59l7.78-7.78 2.81-2.81c.8-.78.8-2.07 0-2.86zM5.41 20L4 18.59l7.72-7.72 1.47 1.35L5.41 20z\"/>\n",
              "  </svg>\n",
              "      </button>\n",
              "      \n",
              "  <style>\n",
              "    .colab-df-container {\n",
              "      display:flex;\n",
              "      flex-wrap:wrap;\n",
              "      gap: 12px;\n",
              "    }\n",
              "\n",
              "    .colab-df-convert {\n",
              "      background-color: #E8F0FE;\n",
              "      border: none;\n",
              "      border-radius: 50%;\n",
              "      cursor: pointer;\n",
              "      display: none;\n",
              "      fill: #1967D2;\n",
              "      height: 32px;\n",
              "      padding: 0 0 0 0;\n",
              "      width: 32px;\n",
              "    }\n",
              "\n",
              "    .colab-df-convert:hover {\n",
              "      background-color: #E2EBFA;\n",
              "      box-shadow: 0px 1px 2px rgba(60, 64, 67, 0.3), 0px 1px 3px 1px rgba(60, 64, 67, 0.15);\n",
              "      fill: #174EA6;\n",
              "    }\n",
              "\n",
              "    [theme=dark] .colab-df-convert {\n",
              "      background-color: #3B4455;\n",
              "      fill: #D2E3FC;\n",
              "    }\n",
              "\n",
              "    [theme=dark] .colab-df-convert:hover {\n",
              "      background-color: #434B5C;\n",
              "      box-shadow: 0px 1px 3px 1px rgba(0, 0, 0, 0.15);\n",
              "      filter: drop-shadow(0px 1px 2px rgba(0, 0, 0, 0.3));\n",
              "      fill: #FFFFFF;\n",
              "    }\n",
              "  </style>\n",
              "\n",
              "      <script>\n",
              "        const buttonEl =\n",
              "          document.querySelector('#df-3846f666-2739-4b3c-8b70-9d69dd164b31 button.colab-df-convert');\n",
              "        buttonEl.style.display =\n",
              "          google.colab.kernel.accessAllowed ? 'block' : 'none';\n",
              "\n",
              "        async function convertToInteractive(key) {\n",
              "          const element = document.querySelector('#df-3846f666-2739-4b3c-8b70-9d69dd164b31');\n",
              "          const dataTable =\n",
              "            await google.colab.kernel.invokeFunction('convertToInteractive',\n",
              "                                                     [key], {});\n",
              "          if (!dataTable) return;\n",
              "\n",
              "          const docLinkHtml = 'Like what you see? Visit the ' +\n",
              "            '<a target=\"_blank\" href=https://colab.research.google.com/notebooks/data_table.ipynb>data table notebook</a>'\n",
              "            + ' to learn more about interactive tables.';\n",
              "          element.innerHTML = '';\n",
              "          dataTable['output_type'] = 'display_data';\n",
              "          await google.colab.output.renderOutput(dataTable, element);\n",
              "          const docLink = document.createElement('div');\n",
              "          docLink.innerHTML = docLinkHtml;\n",
              "          element.appendChild(docLink);\n",
              "        }\n",
              "      </script>\n",
              "    </div>\n",
              "  </div>\n",
              "  "
            ]
          },
          "metadata": {},
          "execution_count": 3
        },
        {
          "output_type": "stream",
          "name": "stdout",
          "text": [
            "Warning: Total number of columns (82) exceeds max_columns (20) limiting to first (20) columns.\n",
            "Warning: total number of rows (65535) exceeds max_rows (20000). Limiting to first (20000) rows.\n"
          ]
        }
      ]
    },
    {
      "cell_type": "markdown",
      "source": [
        "##Desarrollo\n",
        "### Purificación\n",
        "1. A continuación se realiza la limpieza de datos y se presentan los datos con los que se trabajaran"
      ],
      "metadata": {
        "id": "EHq0IcGY6QMM"
      }
    },
    {
      "cell_type": "code",
      "source": [
        "#df['ESTU_MCPIO_RESIDE'] != 'BOGOTA'\n",
        "# df[(df['ESTU_DEPTO_RESIDE'] == 'BOGOTÁ') | (['ESTU_MCPIO_RESIDE'] == 'BOGOTÁ D.C')].shape\n",
        "df = df.fillna('-')\n",
        "df_clean = df.loc[:,['ESTU_GENERO','ESTU_FECHANACIMIENTO','ESTU_TIENEETNIA','FAMI_ESTRATOVIVIENDA','FAMI_PERSONASHOGAR','FAMI_TIENEINTERNET','FAMI_TIENESERVICIOTV','FAMI_TIENECONSOLAVIDEOJUEGOS','FAMI_NUMLIBROS','FAMI_COMELECHEDERIVADOS','FAMI_COMECARNEPESCADOHUEVO','FAMI_COMECEREALFRUTOSLEGUMBRE','FAMI_SITUACIONECONOMICA','ESTU_DEDICACIONLECTURADIARIA','ESTU_DEDICACIONINTERNET','COLE_GENERO','COLE_JORNADA','PUNT_GLOBAL']]\n",
        "df_clean = df_clean.drop(df_clean[(df_clean['FAMI_ESTRATOVIVIENDA'] == '-') | (df_clean['FAMI_PERSONASHOGAR'] == '-') | (df_clean['FAMI_SITUACIONECONOMICA'] == '-') | (df_clean['FAMI_ESTRATOVIVIENDA'] == 'Sin Estrato') ].index,axis=0)\n",
        "df_clean\n"
      ],
      "metadata": {
        "colab": {
          "base_uri": "https://localhost:8080/",
          "height": 574
        },
        "id": "ODno_6lqHM0V",
        "outputId": "ab123295-0911-4783-f619-d29f3f04b446"
      },
      "execution_count": null,
      "outputs": [
        {
          "output_type": "execute_result",
          "data": {
            "text/plain": [
              "      ESTU_GENERO ESTU_FECHANACIMIENTO ESTU_TIENEETNIA FAMI_ESTRATOVIVIENDA  \\\n",
              "0               F             1/9/2004              No            Estrato 1   \n",
              "1               M             4/6/2005              No            Estrato 2   \n",
              "2               F            3/28/2004              No            Estrato 2   \n",
              "4               F           11/16/2004              No            Estrato 2   \n",
              "5               F             1/5/2004              Si            Estrato 1   \n",
              "...           ...                  ...             ...                  ...   \n",
              "65530           F            8/13/2003              No            Estrato 2   \n",
              "65531           F            1/18/2005              No            Estrato 2   \n",
              "65532           F            1/19/2005              No            Estrato 3   \n",
              "65533           M            2/15/2004              No            Estrato 2   \n",
              "65534           F             2/7/2005              No            Estrato 3   \n",
              "\n",
              "      FAMI_PERSONASHOGAR FAMI_TIENEINTERNET FAMI_TIENESERVICIOTV  \\\n",
              "0                  3 a 4                 No                   No   \n",
              "1                  5 a 6                 No                   Si   \n",
              "2                  7 a 8                 No                   No   \n",
              "4                  7 a 8                 Si                   Si   \n",
              "5                  7 a 8                 No                   Si   \n",
              "...                  ...                ...                  ...   \n",
              "65530              5 a 6                  -                   Si   \n",
              "65531              3 a 4                 Si                   No   \n",
              "65532              3 a 4                 Si                   Si   \n",
              "65533              3 a 4                 Si                   Si   \n",
              "65534              3 a 4                 Si                   Si   \n",
              "\n",
              "      FAMI_TIENECONSOLAVIDEOJUEGOS   FAMI_NUMLIBROS  \\\n",
              "0                               Si  26 A 100 LIBROS   \n",
              "1                               No  26 A 100 LIBROS   \n",
              "2                               No    0 A 10 LIBROS   \n",
              "4                               No    0 A 10 LIBROS   \n",
              "5                               No    0 A 10 LIBROS   \n",
              "...                            ...              ...   \n",
              "65530                           No  26 A 100 LIBROS   \n",
              "65531                           No    0 A 10 LIBROS   \n",
              "65532                           Si  26 A 100 LIBROS   \n",
              "65533                           Si    0 A 10 LIBROS   \n",
              "65534                           No   11 A 25 LIBROS   \n",
              "\n",
              "            FAMI_COMELECHEDERIVADOS   FAMI_COMECARNEPESCADOHUEVO  \\\n",
              "0            1 o 2 veces por semana       1 o 2 veces por semana   \n",
              "1            1 o 2 veces por semana  Todos o casi todos los días   \n",
              "2            3 a 5 veces por semana  Todos o casi todos los días   \n",
              "4            3 a 5 veces por semana       1 o 2 veces por semana   \n",
              "5      Nunca o rara vez comemos eso  Todos o casi todos los días   \n",
              "...                             ...                          ...   \n",
              "65530        1 o 2 veces por semana       1 o 2 veces por semana   \n",
              "65531        3 a 5 veces por semana       3 a 5 veces por semana   \n",
              "65532   Todos o casi todos los días  Todos o casi todos los días   \n",
              "65533        3 a 5 veces por semana  Todos o casi todos los días   \n",
              "65534   Todos o casi todos los días  Todos o casi todos los días   \n",
              "\n",
              "      FAMI_COMECEREALFRUTOSLEGUMBRE FAMI_SITUACIONECONOMICA  \\\n",
              "0            1 o 2 veces por semana                   Igual   \n",
              "1            1 o 2 veces por semana                   Igual   \n",
              "2            1 o 2 veces por semana                   Igual   \n",
              "4            1 o 2 veces por semana                   Igual   \n",
              "5            3 a 5 veces por semana                   Mejor   \n",
              "...                             ...                     ...   \n",
              "65530   Todos o casi todos los días                   Mejor   \n",
              "65531        3 a 5 veces por semana                   Igual   \n",
              "65532        3 a 5 veces por semana                   Mejor   \n",
              "65533        3 a 5 veces por semana                    Peor   \n",
              "65534        3 a 5 veces por semana                   Igual   \n",
              "\n",
              "      ESTU_DEDICACIONLECTURADIARIA ESTU_DEDICACIONINTERNET COLE_GENERO  \\\n",
              "0            Entre 30 y 60 minutos       Entre 1 y 3 horas       MIXTO   \n",
              "1       No leo por entretenimiento      No Navega Internet       MIXTO   \n",
              "2            Entre 30 y 60 minutos       Entre 1 y 3 horas       MIXTO   \n",
              "4               30 minutos o menos       Entre 1 y 3 horas       MIXTO   \n",
              "5               30 minutos o menos   Entre 30 y 60 minutos       MIXTO   \n",
              "...                            ...                     ...         ...   \n",
              "65530           30 minutos o menos   Entre 30 y 60 minutos       MIXTO   \n",
              "65531        Entre 30 y 60 minutos          Más de 3 horas       MIXTO   \n",
              "65532           30 minutos o menos       Entre 1 y 3 horas       MIXTO   \n",
              "65533   No leo por entretenimiento          Más de 3 horas       MIXTO   \n",
              "65534           30 minutos o menos       Entre 1 y 3 horas       MIXTO   \n",
              "\n",
              "      COLE_JORNADA  PUNT_GLOBAL  \n",
              "0           MAÑANA          158  \n",
              "1           MAÑANA          179  \n",
              "2           MAÑANA          239  \n",
              "4            UNICA          270  \n",
              "5         COMPLETA          237  \n",
              "...            ...          ...  \n",
              "65530       MAÑANA          236  \n",
              "65531     COMPLETA          297  \n",
              "65532     COMPLETA          347  \n",
              "65533       MAÑANA          250  \n",
              "65534       MAÑANA          302  \n",
              "\n",
              "[58145 rows x 18 columns]"
            ],
            "text/html": [
              "\n",
              "  <div id=\"df-1bbb442d-acd4-41ef-87b9-9e514b528988\">\n",
              "    <div class=\"colab-df-container\">\n",
              "      <div>\n",
              "<style scoped>\n",
              "    .dataframe tbody tr th:only-of-type {\n",
              "        vertical-align: middle;\n",
              "    }\n",
              "\n",
              "    .dataframe tbody tr th {\n",
              "        vertical-align: top;\n",
              "    }\n",
              "\n",
              "    .dataframe thead th {\n",
              "        text-align: right;\n",
              "    }\n",
              "</style>\n",
              "<table border=\"1\" class=\"dataframe\">\n",
              "  <thead>\n",
              "    <tr style=\"text-align: right;\">\n",
              "      <th></th>\n",
              "      <th>ESTU_GENERO</th>\n",
              "      <th>ESTU_FECHANACIMIENTO</th>\n",
              "      <th>ESTU_TIENEETNIA</th>\n",
              "      <th>FAMI_ESTRATOVIVIENDA</th>\n",
              "      <th>FAMI_PERSONASHOGAR</th>\n",
              "      <th>FAMI_TIENEINTERNET</th>\n",
              "      <th>FAMI_TIENESERVICIOTV</th>\n",
              "      <th>FAMI_TIENECONSOLAVIDEOJUEGOS</th>\n",
              "      <th>FAMI_NUMLIBROS</th>\n",
              "      <th>FAMI_COMELECHEDERIVADOS</th>\n",
              "      <th>FAMI_COMECARNEPESCADOHUEVO</th>\n",
              "      <th>FAMI_COMECEREALFRUTOSLEGUMBRE</th>\n",
              "      <th>FAMI_SITUACIONECONOMICA</th>\n",
              "      <th>ESTU_DEDICACIONLECTURADIARIA</th>\n",
              "      <th>ESTU_DEDICACIONINTERNET</th>\n",
              "      <th>COLE_GENERO</th>\n",
              "      <th>COLE_JORNADA</th>\n",
              "      <th>PUNT_GLOBAL</th>\n",
              "    </tr>\n",
              "  </thead>\n",
              "  <tbody>\n",
              "    <tr>\n",
              "      <th>0</th>\n",
              "      <td>F</td>\n",
              "      <td>1/9/2004</td>\n",
              "      <td>No</td>\n",
              "      <td>Estrato 1</td>\n",
              "      <td>3 a 4</td>\n",
              "      <td>No</td>\n",
              "      <td>No</td>\n",
              "      <td>Si</td>\n",
              "      <td>26 A 100 LIBROS</td>\n",
              "      <td>1 o 2 veces por semana</td>\n",
              "      <td>1 o 2 veces por semana</td>\n",
              "      <td>1 o 2 veces por semana</td>\n",
              "      <td>Igual</td>\n",
              "      <td>Entre 30 y 60 minutos</td>\n",
              "      <td>Entre 1 y 3 horas</td>\n",
              "      <td>MIXTO</td>\n",
              "      <td>MAÑANA</td>\n",
              "      <td>158</td>\n",
              "    </tr>\n",
              "    <tr>\n",
              "      <th>1</th>\n",
              "      <td>M</td>\n",
              "      <td>4/6/2005</td>\n",
              "      <td>No</td>\n",
              "      <td>Estrato 2</td>\n",
              "      <td>5 a 6</td>\n",
              "      <td>No</td>\n",
              "      <td>Si</td>\n",
              "      <td>No</td>\n",
              "      <td>26 A 100 LIBROS</td>\n",
              "      <td>1 o 2 veces por semana</td>\n",
              "      <td>Todos o casi todos los días</td>\n",
              "      <td>1 o 2 veces por semana</td>\n",
              "      <td>Igual</td>\n",
              "      <td>No leo por entretenimiento</td>\n",
              "      <td>No Navega Internet</td>\n",
              "      <td>MIXTO</td>\n",
              "      <td>MAÑANA</td>\n",
              "      <td>179</td>\n",
              "    </tr>\n",
              "    <tr>\n",
              "      <th>2</th>\n",
              "      <td>F</td>\n",
              "      <td>3/28/2004</td>\n",
              "      <td>No</td>\n",
              "      <td>Estrato 2</td>\n",
              "      <td>7 a 8</td>\n",
              "      <td>No</td>\n",
              "      <td>No</td>\n",
              "      <td>No</td>\n",
              "      <td>0 A 10 LIBROS</td>\n",
              "      <td>3 a 5 veces por semana</td>\n",
              "      <td>Todos o casi todos los días</td>\n",
              "      <td>1 o 2 veces por semana</td>\n",
              "      <td>Igual</td>\n",
              "      <td>Entre 30 y 60 minutos</td>\n",
              "      <td>Entre 1 y 3 horas</td>\n",
              "      <td>MIXTO</td>\n",
              "      <td>MAÑANA</td>\n",
              "      <td>239</td>\n",
              "    </tr>\n",
              "    <tr>\n",
              "      <th>4</th>\n",
              "      <td>F</td>\n",
              "      <td>11/16/2004</td>\n",
              "      <td>No</td>\n",
              "      <td>Estrato 2</td>\n",
              "      <td>7 a 8</td>\n",
              "      <td>Si</td>\n",
              "      <td>Si</td>\n",
              "      <td>No</td>\n",
              "      <td>0 A 10 LIBROS</td>\n",
              "      <td>3 a 5 veces por semana</td>\n",
              "      <td>1 o 2 veces por semana</td>\n",
              "      <td>1 o 2 veces por semana</td>\n",
              "      <td>Igual</td>\n",
              "      <td>30 minutos o menos</td>\n",
              "      <td>Entre 1 y 3 horas</td>\n",
              "      <td>MIXTO</td>\n",
              "      <td>UNICA</td>\n",
              "      <td>270</td>\n",
              "    </tr>\n",
              "    <tr>\n",
              "      <th>5</th>\n",
              "      <td>F</td>\n",
              "      <td>1/5/2004</td>\n",
              "      <td>Si</td>\n",
              "      <td>Estrato 1</td>\n",
              "      <td>7 a 8</td>\n",
              "      <td>No</td>\n",
              "      <td>Si</td>\n",
              "      <td>No</td>\n",
              "      <td>0 A 10 LIBROS</td>\n",
              "      <td>Nunca o rara vez comemos eso</td>\n",
              "      <td>Todos o casi todos los días</td>\n",
              "      <td>3 a 5 veces por semana</td>\n",
              "      <td>Mejor</td>\n",
              "      <td>30 minutos o menos</td>\n",
              "      <td>Entre 30 y 60 minutos</td>\n",
              "      <td>MIXTO</td>\n",
              "      <td>COMPLETA</td>\n",
              "      <td>237</td>\n",
              "    </tr>\n",
              "    <tr>\n",
              "      <th>...</th>\n",
              "      <td>...</td>\n",
              "      <td>...</td>\n",
              "      <td>...</td>\n",
              "      <td>...</td>\n",
              "      <td>...</td>\n",
              "      <td>...</td>\n",
              "      <td>...</td>\n",
              "      <td>...</td>\n",
              "      <td>...</td>\n",
              "      <td>...</td>\n",
              "      <td>...</td>\n",
              "      <td>...</td>\n",
              "      <td>...</td>\n",
              "      <td>...</td>\n",
              "      <td>...</td>\n",
              "      <td>...</td>\n",
              "      <td>...</td>\n",
              "      <td>...</td>\n",
              "    </tr>\n",
              "    <tr>\n",
              "      <th>65530</th>\n",
              "      <td>F</td>\n",
              "      <td>8/13/2003</td>\n",
              "      <td>No</td>\n",
              "      <td>Estrato 2</td>\n",
              "      <td>5 a 6</td>\n",
              "      <td>-</td>\n",
              "      <td>Si</td>\n",
              "      <td>No</td>\n",
              "      <td>26 A 100 LIBROS</td>\n",
              "      <td>1 o 2 veces por semana</td>\n",
              "      <td>1 o 2 veces por semana</td>\n",
              "      <td>Todos o casi todos los días</td>\n",
              "      <td>Mejor</td>\n",
              "      <td>30 minutos o menos</td>\n",
              "      <td>Entre 30 y 60 minutos</td>\n",
              "      <td>MIXTO</td>\n",
              "      <td>MAÑANA</td>\n",
              "      <td>236</td>\n",
              "    </tr>\n",
              "    <tr>\n",
              "      <th>65531</th>\n",
              "      <td>F</td>\n",
              "      <td>1/18/2005</td>\n",
              "      <td>No</td>\n",
              "      <td>Estrato 2</td>\n",
              "      <td>3 a 4</td>\n",
              "      <td>Si</td>\n",
              "      <td>No</td>\n",
              "      <td>No</td>\n",
              "      <td>0 A 10 LIBROS</td>\n",
              "      <td>3 a 5 veces por semana</td>\n",
              "      <td>3 a 5 veces por semana</td>\n",
              "      <td>3 a 5 veces por semana</td>\n",
              "      <td>Igual</td>\n",
              "      <td>Entre 30 y 60 minutos</td>\n",
              "      <td>Más de 3 horas</td>\n",
              "      <td>MIXTO</td>\n",
              "      <td>COMPLETA</td>\n",
              "      <td>297</td>\n",
              "    </tr>\n",
              "    <tr>\n",
              "      <th>65532</th>\n",
              "      <td>F</td>\n",
              "      <td>1/19/2005</td>\n",
              "      <td>No</td>\n",
              "      <td>Estrato 3</td>\n",
              "      <td>3 a 4</td>\n",
              "      <td>Si</td>\n",
              "      <td>Si</td>\n",
              "      <td>Si</td>\n",
              "      <td>26 A 100 LIBROS</td>\n",
              "      <td>Todos o casi todos los días</td>\n",
              "      <td>Todos o casi todos los días</td>\n",
              "      <td>3 a 5 veces por semana</td>\n",
              "      <td>Mejor</td>\n",
              "      <td>30 minutos o menos</td>\n",
              "      <td>Entre 1 y 3 horas</td>\n",
              "      <td>MIXTO</td>\n",
              "      <td>COMPLETA</td>\n",
              "      <td>347</td>\n",
              "    </tr>\n",
              "    <tr>\n",
              "      <th>65533</th>\n",
              "      <td>M</td>\n",
              "      <td>2/15/2004</td>\n",
              "      <td>No</td>\n",
              "      <td>Estrato 2</td>\n",
              "      <td>3 a 4</td>\n",
              "      <td>Si</td>\n",
              "      <td>Si</td>\n",
              "      <td>Si</td>\n",
              "      <td>0 A 10 LIBROS</td>\n",
              "      <td>3 a 5 veces por semana</td>\n",
              "      <td>Todos o casi todos los días</td>\n",
              "      <td>3 a 5 veces por semana</td>\n",
              "      <td>Peor</td>\n",
              "      <td>No leo por entretenimiento</td>\n",
              "      <td>Más de 3 horas</td>\n",
              "      <td>MIXTO</td>\n",
              "      <td>MAÑANA</td>\n",
              "      <td>250</td>\n",
              "    </tr>\n",
              "    <tr>\n",
              "      <th>65534</th>\n",
              "      <td>F</td>\n",
              "      <td>2/7/2005</td>\n",
              "      <td>No</td>\n",
              "      <td>Estrato 3</td>\n",
              "      <td>3 a 4</td>\n",
              "      <td>Si</td>\n",
              "      <td>Si</td>\n",
              "      <td>No</td>\n",
              "      <td>11 A 25 LIBROS</td>\n",
              "      <td>Todos o casi todos los días</td>\n",
              "      <td>Todos o casi todos los días</td>\n",
              "      <td>3 a 5 veces por semana</td>\n",
              "      <td>Igual</td>\n",
              "      <td>30 minutos o menos</td>\n",
              "      <td>Entre 1 y 3 horas</td>\n",
              "      <td>MIXTO</td>\n",
              "      <td>MAÑANA</td>\n",
              "      <td>302</td>\n",
              "    </tr>\n",
              "  </tbody>\n",
              "</table>\n",
              "<p>58145 rows × 18 columns</p>\n",
              "</div>\n",
              "      <button class=\"colab-df-convert\" onclick=\"convertToInteractive('df-1bbb442d-acd4-41ef-87b9-9e514b528988')\"\n",
              "              title=\"Convert this dataframe to an interactive table.\"\n",
              "              style=\"display:none;\">\n",
              "        \n",
              "  <svg xmlns=\"http://www.w3.org/2000/svg\" height=\"24px\"viewBox=\"0 0 24 24\"\n",
              "       width=\"24px\">\n",
              "    <path d=\"M0 0h24v24H0V0z\" fill=\"none\"/>\n",
              "    <path d=\"M18.56 5.44l.94 2.06.94-2.06 2.06-.94-2.06-.94-.94-2.06-.94 2.06-2.06.94zm-11 1L8.5 8.5l.94-2.06 2.06-.94-2.06-.94L8.5 2.5l-.94 2.06-2.06.94zm10 10l.94 2.06.94-2.06 2.06-.94-2.06-.94-.94-2.06-.94 2.06-2.06.94z\"/><path d=\"M17.41 7.96l-1.37-1.37c-.4-.4-.92-.59-1.43-.59-.52 0-1.04.2-1.43.59L10.3 9.45l-7.72 7.72c-.78.78-.78 2.05 0 2.83L4 21.41c.39.39.9.59 1.41.59.51 0 1.02-.2 1.41-.59l7.78-7.78 2.81-2.81c.8-.78.8-2.07 0-2.86zM5.41 20L4 18.59l7.72-7.72 1.47 1.35L5.41 20z\"/>\n",
              "  </svg>\n",
              "      </button>\n",
              "      \n",
              "  <style>\n",
              "    .colab-df-container {\n",
              "      display:flex;\n",
              "      flex-wrap:wrap;\n",
              "      gap: 12px;\n",
              "    }\n",
              "\n",
              "    .colab-df-convert {\n",
              "      background-color: #E8F0FE;\n",
              "      border: none;\n",
              "      border-radius: 50%;\n",
              "      cursor: pointer;\n",
              "      display: none;\n",
              "      fill: #1967D2;\n",
              "      height: 32px;\n",
              "      padding: 0 0 0 0;\n",
              "      width: 32px;\n",
              "    }\n",
              "\n",
              "    .colab-df-convert:hover {\n",
              "      background-color: #E2EBFA;\n",
              "      box-shadow: 0px 1px 2px rgba(60, 64, 67, 0.3), 0px 1px 3px 1px rgba(60, 64, 67, 0.15);\n",
              "      fill: #174EA6;\n",
              "    }\n",
              "\n",
              "    [theme=dark] .colab-df-convert {\n",
              "      background-color: #3B4455;\n",
              "      fill: #D2E3FC;\n",
              "    }\n",
              "\n",
              "    [theme=dark] .colab-df-convert:hover {\n",
              "      background-color: #434B5C;\n",
              "      box-shadow: 0px 1px 3px 1px rgba(0, 0, 0, 0.15);\n",
              "      filter: drop-shadow(0px 1px 2px rgba(0, 0, 0, 0.3));\n",
              "      fill: #FFFFFF;\n",
              "    }\n",
              "  </style>\n",
              "\n",
              "      <script>\n",
              "        const buttonEl =\n",
              "          document.querySelector('#df-1bbb442d-acd4-41ef-87b9-9e514b528988 button.colab-df-convert');\n",
              "        buttonEl.style.display =\n",
              "          google.colab.kernel.accessAllowed ? 'block' : 'none';\n",
              "\n",
              "        async function convertToInteractive(key) {\n",
              "          const element = document.querySelector('#df-1bbb442d-acd4-41ef-87b9-9e514b528988');\n",
              "          const dataTable =\n",
              "            await google.colab.kernel.invokeFunction('convertToInteractive',\n",
              "                                                     [key], {});\n",
              "          if (!dataTable) return;\n",
              "\n",
              "          const docLinkHtml = 'Like what you see? Visit the ' +\n",
              "            '<a target=\"_blank\" href=https://colab.research.google.com/notebooks/data_table.ipynb>data table notebook</a>'\n",
              "            + ' to learn more about interactive tables.';\n",
              "          element.innerHTML = '';\n",
              "          dataTable['output_type'] = 'display_data';\n",
              "          await google.colab.output.renderOutput(dataTable, element);\n",
              "          const docLink = document.createElement('div');\n",
              "          docLink.innerHTML = docLinkHtml;\n",
              "          element.appendChild(docLink);\n",
              "        }\n",
              "      </script>\n",
              "    </div>\n",
              "  </div>\n",
              "  "
            ]
          },
          "metadata": {},
          "execution_count": 4
        }
      ]
    },
    {
      "cell_type": "markdown",
      "source": [
        "Luego se editan los valores de las columnas a trabajar\n",
        "\n",
        "---\n",
        "\n"
      ],
      "metadata": {
        "id": "oDSxtYnhbQIl"
      }
    },
    {
      "cell_type": "code",
      "source": [
        "\n",
        "\n",
        "arr_fechas = np.array(df_clean['ESTU_FECHANACIMIENTO'])\n",
        "arr_personas_hogar = np.array(df_clean['FAMI_PERSONASHOGAR'])\n",
        "arr_estrato = np.array(df_clean['FAMI_ESTRATOVIVIENDA'])\n",
        "fecha_actual = datetime.now()\n",
        "\n",
        "\n",
        "for index in range(df_clean.shape[0]):\n",
        "  arr_fechas.itemset(index,relativedelta(datetime.now(),datetime.strptime(arr_fechas[index][0:10],'%m/%d/%Y')).years) \n",
        "  arr_personas_hogar.itemset(index,int(arr_personas_hogar[index][0:2]) if len(str(arr_personas_hogar[index])) > 1 else 0)\n",
        "  arr_estrato.itemset(index,arr_estrato[index].replace('Estrato ',''))\n",
        "\n",
        "df_clean['FAMI_PERSONASHOGAR'] = arr_personas_hogar\n",
        "df_clean['EDAD'] = arr_fechas\n",
        "df_clean['FAMI_ESTRATOVIVIENDA'] = arr_estrato\n",
        "df_clean.head()\n"
      ],
      "metadata": {
        "id": "jq11sloe6KoS",
        "colab": {
          "base_uri": "https://localhost:8080/",
          "height": 322
        },
        "outputId": "97f4f336-cfeb-4463-f324-df032e227050"
      },
      "execution_count": null,
      "outputs": [
        {
          "output_type": "execute_result",
          "data": {
            "text/plain": [
              "  ESTU_GENERO ESTU_FECHANACIMIENTO ESTU_TIENEETNIA FAMI_ESTRATOVIVIENDA  \\\n",
              "0           F             1/9/2004              No                    1   \n",
              "1           M             4/6/2005              No                    2   \n",
              "2           F            3/28/2004              No                    2   \n",
              "4           F           11/16/2004              No                    2   \n",
              "5           F             1/5/2004              Si                    1   \n",
              "\n",
              "  FAMI_PERSONASHOGAR FAMI_TIENEINTERNET FAMI_TIENESERVICIOTV  \\\n",
              "0                  3                 No                   No   \n",
              "1                  5                 No                   Si   \n",
              "2                  7                 No                   No   \n",
              "4                  7                 Si                   Si   \n",
              "5                  7                 No                   Si   \n",
              "\n",
              "  FAMI_TIENECONSOLAVIDEOJUEGOS   FAMI_NUMLIBROS       FAMI_COMELECHEDERIVADOS  \\\n",
              "0                           Si  26 A 100 LIBROS        1 o 2 veces por semana   \n",
              "1                           No  26 A 100 LIBROS        1 o 2 veces por semana   \n",
              "2                           No    0 A 10 LIBROS        3 a 5 veces por semana   \n",
              "4                           No    0 A 10 LIBROS        3 a 5 veces por semana   \n",
              "5                           No    0 A 10 LIBROS  Nunca o rara vez comemos eso   \n",
              "\n",
              "    FAMI_COMECARNEPESCADOHUEVO FAMI_COMECEREALFRUTOSLEGUMBRE  \\\n",
              "0       1 o 2 veces por semana        1 o 2 veces por semana   \n",
              "1  Todos o casi todos los días        1 o 2 veces por semana   \n",
              "2  Todos o casi todos los días        1 o 2 veces por semana   \n",
              "4       1 o 2 veces por semana        1 o 2 veces por semana   \n",
              "5  Todos o casi todos los días        3 a 5 veces por semana   \n",
              "\n",
              "  FAMI_SITUACIONECONOMICA ESTU_DEDICACIONLECTURADIARIA  \\\n",
              "0                   Igual        Entre 30 y 60 minutos   \n",
              "1                   Igual   No leo por entretenimiento   \n",
              "2                   Igual        Entre 30 y 60 minutos   \n",
              "4                   Igual           30 minutos o menos   \n",
              "5                   Mejor           30 minutos o menos   \n",
              "\n",
              "  ESTU_DEDICACIONINTERNET COLE_GENERO COLE_JORNADA  PUNT_GLOBAL EDAD  \n",
              "0       Entre 1 y 3 horas       MIXTO       MAÑANA          158   18  \n",
              "1      No Navega Internet       MIXTO       MAÑANA          179   17  \n",
              "2       Entre 1 y 3 horas       MIXTO       MAÑANA          239   18  \n",
              "4       Entre 1 y 3 horas       MIXTO        UNICA          270   17  \n",
              "5   Entre 30 y 60 minutos       MIXTO     COMPLETA          237   18  "
            ],
            "text/html": [
              "\n",
              "  <div id=\"df-8c973977-d4bd-48ff-8e22-25bc47b9555e\">\n",
              "    <div class=\"colab-df-container\">\n",
              "      <div>\n",
              "<style scoped>\n",
              "    .dataframe tbody tr th:only-of-type {\n",
              "        vertical-align: middle;\n",
              "    }\n",
              "\n",
              "    .dataframe tbody tr th {\n",
              "        vertical-align: top;\n",
              "    }\n",
              "\n",
              "    .dataframe thead th {\n",
              "        text-align: right;\n",
              "    }\n",
              "</style>\n",
              "<table border=\"1\" class=\"dataframe\">\n",
              "  <thead>\n",
              "    <tr style=\"text-align: right;\">\n",
              "      <th></th>\n",
              "      <th>ESTU_GENERO</th>\n",
              "      <th>ESTU_FECHANACIMIENTO</th>\n",
              "      <th>ESTU_TIENEETNIA</th>\n",
              "      <th>FAMI_ESTRATOVIVIENDA</th>\n",
              "      <th>FAMI_PERSONASHOGAR</th>\n",
              "      <th>FAMI_TIENEINTERNET</th>\n",
              "      <th>FAMI_TIENESERVICIOTV</th>\n",
              "      <th>FAMI_TIENECONSOLAVIDEOJUEGOS</th>\n",
              "      <th>FAMI_NUMLIBROS</th>\n",
              "      <th>FAMI_COMELECHEDERIVADOS</th>\n",
              "      <th>FAMI_COMECARNEPESCADOHUEVO</th>\n",
              "      <th>FAMI_COMECEREALFRUTOSLEGUMBRE</th>\n",
              "      <th>FAMI_SITUACIONECONOMICA</th>\n",
              "      <th>ESTU_DEDICACIONLECTURADIARIA</th>\n",
              "      <th>ESTU_DEDICACIONINTERNET</th>\n",
              "      <th>COLE_GENERO</th>\n",
              "      <th>COLE_JORNADA</th>\n",
              "      <th>PUNT_GLOBAL</th>\n",
              "      <th>EDAD</th>\n",
              "    </tr>\n",
              "  </thead>\n",
              "  <tbody>\n",
              "    <tr>\n",
              "      <th>0</th>\n",
              "      <td>F</td>\n",
              "      <td>1/9/2004</td>\n",
              "      <td>No</td>\n",
              "      <td>1</td>\n",
              "      <td>3</td>\n",
              "      <td>No</td>\n",
              "      <td>No</td>\n",
              "      <td>Si</td>\n",
              "      <td>26 A 100 LIBROS</td>\n",
              "      <td>1 o 2 veces por semana</td>\n",
              "      <td>1 o 2 veces por semana</td>\n",
              "      <td>1 o 2 veces por semana</td>\n",
              "      <td>Igual</td>\n",
              "      <td>Entre 30 y 60 minutos</td>\n",
              "      <td>Entre 1 y 3 horas</td>\n",
              "      <td>MIXTO</td>\n",
              "      <td>MAÑANA</td>\n",
              "      <td>158</td>\n",
              "      <td>18</td>\n",
              "    </tr>\n",
              "    <tr>\n",
              "      <th>1</th>\n",
              "      <td>M</td>\n",
              "      <td>4/6/2005</td>\n",
              "      <td>No</td>\n",
              "      <td>2</td>\n",
              "      <td>5</td>\n",
              "      <td>No</td>\n",
              "      <td>Si</td>\n",
              "      <td>No</td>\n",
              "      <td>26 A 100 LIBROS</td>\n",
              "      <td>1 o 2 veces por semana</td>\n",
              "      <td>Todos o casi todos los días</td>\n",
              "      <td>1 o 2 veces por semana</td>\n",
              "      <td>Igual</td>\n",
              "      <td>No leo por entretenimiento</td>\n",
              "      <td>No Navega Internet</td>\n",
              "      <td>MIXTO</td>\n",
              "      <td>MAÑANA</td>\n",
              "      <td>179</td>\n",
              "      <td>17</td>\n",
              "    </tr>\n",
              "    <tr>\n",
              "      <th>2</th>\n",
              "      <td>F</td>\n",
              "      <td>3/28/2004</td>\n",
              "      <td>No</td>\n",
              "      <td>2</td>\n",
              "      <td>7</td>\n",
              "      <td>No</td>\n",
              "      <td>No</td>\n",
              "      <td>No</td>\n",
              "      <td>0 A 10 LIBROS</td>\n",
              "      <td>3 a 5 veces por semana</td>\n",
              "      <td>Todos o casi todos los días</td>\n",
              "      <td>1 o 2 veces por semana</td>\n",
              "      <td>Igual</td>\n",
              "      <td>Entre 30 y 60 minutos</td>\n",
              "      <td>Entre 1 y 3 horas</td>\n",
              "      <td>MIXTO</td>\n",
              "      <td>MAÑANA</td>\n",
              "      <td>239</td>\n",
              "      <td>18</td>\n",
              "    </tr>\n",
              "    <tr>\n",
              "      <th>4</th>\n",
              "      <td>F</td>\n",
              "      <td>11/16/2004</td>\n",
              "      <td>No</td>\n",
              "      <td>2</td>\n",
              "      <td>7</td>\n",
              "      <td>Si</td>\n",
              "      <td>Si</td>\n",
              "      <td>No</td>\n",
              "      <td>0 A 10 LIBROS</td>\n",
              "      <td>3 a 5 veces por semana</td>\n",
              "      <td>1 o 2 veces por semana</td>\n",
              "      <td>1 o 2 veces por semana</td>\n",
              "      <td>Igual</td>\n",
              "      <td>30 minutos o menos</td>\n",
              "      <td>Entre 1 y 3 horas</td>\n",
              "      <td>MIXTO</td>\n",
              "      <td>UNICA</td>\n",
              "      <td>270</td>\n",
              "      <td>17</td>\n",
              "    </tr>\n",
              "    <tr>\n",
              "      <th>5</th>\n",
              "      <td>F</td>\n",
              "      <td>1/5/2004</td>\n",
              "      <td>Si</td>\n",
              "      <td>1</td>\n",
              "      <td>7</td>\n",
              "      <td>No</td>\n",
              "      <td>Si</td>\n",
              "      <td>No</td>\n",
              "      <td>0 A 10 LIBROS</td>\n",
              "      <td>Nunca o rara vez comemos eso</td>\n",
              "      <td>Todos o casi todos los días</td>\n",
              "      <td>3 a 5 veces por semana</td>\n",
              "      <td>Mejor</td>\n",
              "      <td>30 minutos o menos</td>\n",
              "      <td>Entre 30 y 60 minutos</td>\n",
              "      <td>MIXTO</td>\n",
              "      <td>COMPLETA</td>\n",
              "      <td>237</td>\n",
              "      <td>18</td>\n",
              "    </tr>\n",
              "  </tbody>\n",
              "</table>\n",
              "</div>\n",
              "      <button class=\"colab-df-convert\" onclick=\"convertToInteractive('df-8c973977-d4bd-48ff-8e22-25bc47b9555e')\"\n",
              "              title=\"Convert this dataframe to an interactive table.\"\n",
              "              style=\"display:none;\">\n",
              "        \n",
              "  <svg xmlns=\"http://www.w3.org/2000/svg\" height=\"24px\"viewBox=\"0 0 24 24\"\n",
              "       width=\"24px\">\n",
              "    <path d=\"M0 0h24v24H0V0z\" fill=\"none\"/>\n",
              "    <path d=\"M18.56 5.44l.94 2.06.94-2.06 2.06-.94-2.06-.94-.94-2.06-.94 2.06-2.06.94zm-11 1L8.5 8.5l.94-2.06 2.06-.94-2.06-.94L8.5 2.5l-.94 2.06-2.06.94zm10 10l.94 2.06.94-2.06 2.06-.94-2.06-.94-.94-2.06-.94 2.06-2.06.94z\"/><path d=\"M17.41 7.96l-1.37-1.37c-.4-.4-.92-.59-1.43-.59-.52 0-1.04.2-1.43.59L10.3 9.45l-7.72 7.72c-.78.78-.78 2.05 0 2.83L4 21.41c.39.39.9.59 1.41.59.51 0 1.02-.2 1.41-.59l7.78-7.78 2.81-2.81c.8-.78.8-2.07 0-2.86zM5.41 20L4 18.59l7.72-7.72 1.47 1.35L5.41 20z\"/>\n",
              "  </svg>\n",
              "      </button>\n",
              "      \n",
              "  <style>\n",
              "    .colab-df-container {\n",
              "      display:flex;\n",
              "      flex-wrap:wrap;\n",
              "      gap: 12px;\n",
              "    }\n",
              "\n",
              "    .colab-df-convert {\n",
              "      background-color: #E8F0FE;\n",
              "      border: none;\n",
              "      border-radius: 50%;\n",
              "      cursor: pointer;\n",
              "      display: none;\n",
              "      fill: #1967D2;\n",
              "      height: 32px;\n",
              "      padding: 0 0 0 0;\n",
              "      width: 32px;\n",
              "    }\n",
              "\n",
              "    .colab-df-convert:hover {\n",
              "      background-color: #E2EBFA;\n",
              "      box-shadow: 0px 1px 2px rgba(60, 64, 67, 0.3), 0px 1px 3px 1px rgba(60, 64, 67, 0.15);\n",
              "      fill: #174EA6;\n",
              "    }\n",
              "\n",
              "    [theme=dark] .colab-df-convert {\n",
              "      background-color: #3B4455;\n",
              "      fill: #D2E3FC;\n",
              "    }\n",
              "\n",
              "    [theme=dark] .colab-df-convert:hover {\n",
              "      background-color: #434B5C;\n",
              "      box-shadow: 0px 1px 3px 1px rgba(0, 0, 0, 0.15);\n",
              "      filter: drop-shadow(0px 1px 2px rgba(0, 0, 0, 0.3));\n",
              "      fill: #FFFFFF;\n",
              "    }\n",
              "  </style>\n",
              "\n",
              "      <script>\n",
              "        const buttonEl =\n",
              "          document.querySelector('#df-8c973977-d4bd-48ff-8e22-25bc47b9555e button.colab-df-convert');\n",
              "        buttonEl.style.display =\n",
              "          google.colab.kernel.accessAllowed ? 'block' : 'none';\n",
              "\n",
              "        async function convertToInteractive(key) {\n",
              "          const element = document.querySelector('#df-8c973977-d4bd-48ff-8e22-25bc47b9555e');\n",
              "          const dataTable =\n",
              "            await google.colab.kernel.invokeFunction('convertToInteractive',\n",
              "                                                     [key], {});\n",
              "          if (!dataTable) return;\n",
              "\n",
              "          const docLinkHtml = 'Like what you see? Visit the ' +\n",
              "            '<a target=\"_blank\" href=https://colab.research.google.com/notebooks/data_table.ipynb>data table notebook</a>'\n",
              "            + ' to learn more about interactive tables.';\n",
              "          element.innerHTML = '';\n",
              "          dataTable['output_type'] = 'display_data';\n",
              "          await google.colab.output.renderOutput(dataTable, element);\n",
              "          const docLink = document.createElement('div');\n",
              "          docLink.innerHTML = docLinkHtml;\n",
              "          element.appendChild(docLink);\n",
              "        }\n",
              "      </script>\n",
              "    </div>\n",
              "  </div>\n",
              "  "
            ]
          },
          "metadata": {},
          "execution_count": 5
        }
      ]
    },
    {
      "cell_type": "markdown",
      "source": [
        "Los posibles valores para cada variables seran:\n",
        "### Bienestar\n",
        "  - Minimo de personas con quien convive:\n",
        "    - Peor && * || Igual && 1,7,9  ⛔\n",
        "    - Igual && 3, Mejor && 3 ⭕\n",
        "    - Mejor && 5,7,9 || Igual 5 ✅"
      ],
      "metadata": {
        "id": "t23jPbJJ1V1l"
      }
    },
    {
      "cell_type": "code",
      "source": [
        "df_clean['FAMI_PERSONASHOGAR'].unique()"
      ],
      "metadata": {
        "colab": {
          "base_uri": "https://localhost:8080/"
        },
        "id": "ydcjTxDdhIO8",
        "outputId": "7b1bbfc7-966d-4ce4-e43e-3eac8c4bf1c2"
      },
      "execution_count": null,
      "outputs": [
        {
          "output_type": "execute_result",
          "data": {
            "text/plain": [
              "array([3, 5, 7, 9, 1], dtype=object)"
            ]
          },
          "metadata": {},
          "execution_count": 6
        }
      ]
    },
    {
      "cell_type": "markdown",
      "source": [
        "- Sumatoria de tipos de entretenimiento y ocio:\n",
        "  - 0 ⛔\n",
        "  - 1⭕\n",
        "  - 2, 3 y 4 ✅\n",
        "En número de libros se tendran en cuenta '-', '0 a 10 libros' como si y las demas respuestas como noa\n",
        "\n"
      ],
      "metadata": {
        "id": "L7fjmzaZIlT0"
      }
    },
    {
      "cell_type": "code",
      "source": [
        "df_clean['FAMI_TIENEINTERNET'].unique()"
      ],
      "metadata": {
        "colab": {
          "base_uri": "https://localhost:8080/"
        },
        "id": "7YQXVh6sJoN5",
        "outputId": "ee2be3fe-480a-47ec-a47f-500898fcc84d"
      },
      "execution_count": null,
      "outputs": [
        {
          "output_type": "execute_result",
          "data": {
            "text/plain": [
              "array(['No', 'Si', '-'], dtype=object)"
            ]
          },
          "metadata": {},
          "execution_count": 45
        }
      ]
    },
    {
      "cell_type": "code",
      "source": [
        "df_clean['FAMI_TIENESERVICIOTV'].unique()"
      ],
      "metadata": {
        "colab": {
          "base_uri": "https://localhost:8080/"
        },
        "id": "oDjOGtDzJ94k",
        "outputId": "41ba9a1b-ba98-4676-c4b5-464d8d6b7b62"
      },
      "execution_count": null,
      "outputs": [
        {
          "output_type": "execute_result",
          "data": {
            "text/plain": [
              "array(['No', 'Si', '-'], dtype=object)"
            ]
          },
          "metadata": {},
          "execution_count": 46
        }
      ]
    },
    {
      "cell_type": "code",
      "source": [
        "df_clean['FAMI_TIENECONSOLAVIDEOJUEGOS'].unique()"
      ],
      "metadata": {
        "colab": {
          "base_uri": "https://localhost:8080/"
        },
        "id": "dVyYVGsUKDxO",
        "outputId": "5ab70b44-5d2b-4f49-c79e-91856dcad834"
      },
      "execution_count": null,
      "outputs": [
        {
          "output_type": "execute_result",
          "data": {
            "text/plain": [
              "array(['Si', 'No', '-'], dtype=object)"
            ]
          },
          "metadata": {},
          "execution_count": 47
        }
      ]
    },
    {
      "cell_type": "code",
      "source": [
        "df_clean['FAMI_NUMLIBROS'].unique()"
      ],
      "metadata": {
        "colab": {
          "base_uri": "https://localhost:8080/"
        },
        "id": "Qnhyw9z2MemU",
        "outputId": "da48a6d0-79ac-44a8-dc0f-ec17ac41fd47"
      },
      "execution_count": null,
      "outputs": [
        {
          "output_type": "execute_result",
          "data": {
            "text/plain": [
              "array(['26 A 100 LIBROS', '0 A 10 LIBROS', '11 A 25 LIBROS',\n",
              "       'MÁS DE 100 LIBROS', '-'], dtype=object)"
            ]
          },
          "metadata": {},
          "execution_count": 48
        }
      ]
    },
    {
      "cell_type": "markdown",
      "source": [
        "### Economía\n",
        "*   Clasificación estrato social:\n",
        "  -  1,2 ⛔\n",
        "  - 3 ⭕\n",
        "  - 4,5,6 ✅\n"
      ],
      "metadata": {
        "id": "E7-yaVSbiCwy"
      }
    },
    {
      "cell_type": "code",
      "source": [
        "df_clean['FAMI_ESTRATOVIVIENDA'].unique()"
      ],
      "metadata": {
        "colab": {
          "base_uri": "https://localhost:8080/"
        },
        "id": "UAxJPCfRiMRG",
        "outputId": "1d84a5cd-1fee-4341-a536-249640fe4a4a"
      },
      "execution_count": null,
      "outputs": [
        {
          "output_type": "execute_result",
          "data": {
            "text/plain": [
              "array(['1', '2', '3', '4', '6', '5'], dtype=object)"
            ]
          },
          "metadata": {},
          "execution_count": 105
        }
      ]
    },
    {
      "cell_type": "markdown",
      "source": [
        "  - Situación economica:\n",
        "    - Peor⛔\n",
        "    - Igual⭕\n",
        "    - Mejor ✅\n",
        "\n",
        "\n",
        "\n",
        "\n"
      ],
      "metadata": {
        "id": "VGITGZsQ8B5-"
      }
    },
    {
      "cell_type": "code",
      "source": [
        "df_clean['FAMI_SITUACIONECONOMICA'].unique()"
      ],
      "metadata": {
        "colab": {
          "base_uri": "https://localhost:8080/"
        },
        "id": "og_c4Osq7kKY",
        "outputId": "6ddd3108-3cd8-4404-8620-ef81fa978875"
      },
      "execution_count": null,
      "outputs": [
        {
          "output_type": "execute_result",
          "data": {
            "text/plain": [
              "array(['Peor', 'Mejor', 'Igual'], dtype=object)"
            ]
          },
          "metadata": {},
          "execution_count": 6
        }
      ]
    },
    {
      "cell_type": "markdown",
      "source": [
        "### Educación\n",
        "* Tiempo de lectura\n",
        "  -   '-' ⛔\n",
        "  -  30 min o menos⭕\n",
        "  - Entre 30 y 60 minutos, 1 y 2 horas, más de 2 horas ✅"
      ],
      "metadata": {
        "id": "rZZ6jJ9G75u-"
      }
    },
    {
      "cell_type": "code",
      "source": [
        "df_clean['ESTU_DEDICACIONLECTURADIARIA'].unique()"
      ],
      "metadata": {
        "colab": {
          "base_uri": "https://localhost:8080/"
        },
        "id": "KhS0wVfqln4m",
        "outputId": "eb7ded8f-29a8-42a3-8587-186a15a6a7ae"
      },
      "execution_count": null,
      "outputs": [
        {
          "output_type": "execute_result",
          "data": {
            "text/plain": [
              "array(['Entre 30 y 60 minutos', 'No leo por entretenimiento',\n",
              "       '30 minutos o menos', 'Entre 1 y 2 horas', 'Más de 2 horas', '-'],\n",
              "      dtype=object)"
            ]
          },
          "metadata": {},
          "execution_count": 50
        }
      ]
    },
    {
      "cell_type": "markdown",
      "source": [
        "* Promedio puntaje global:\n",
        "    - menor a 250⛔\n",
        "    - entre 250  y 350 ⭕\n",
        "    - mayor a 350 ✅\n"
      ],
      "metadata": {
        "id": "M2hojKegPc5b"
      }
    },
    {
      "cell_type": "code",
      "source": [
        ""
      ],
      "metadata": {
        "id": "ixCe3HslPcVe"
      },
      "execution_count": null,
      "outputs": []
    },
    {
      "cell_type": "markdown",
      "source": [
        "* Dedicación tiempo en internet:\n",
        "    - No navega Internet⛔\n",
        "    - 30 minutos o menos, más de 3 horas ⭕\n",
        "    - Entre 30 y 60 minutos, entre 1 y 3 horas  ✅"
      ],
      "metadata": {
        "id": "qEYXM41tCuuh"
      }
    },
    {
      "cell_type": "code",
      "source": [
        "df_clean['ESTU_DEDICACIONINTERNET'].unique()"
      ],
      "metadata": {
        "colab": {
          "base_uri": "https://localhost:8080/"
        },
        "id": "spwzFPzvDrdi",
        "outputId": "12d7f78b-acc9-43bb-ddbf-c9ecd8beb29d"
      },
      "execution_count": null,
      "outputs": [
        {
          "output_type": "execute_result",
          "data": {
            "text/plain": [
              "array(['Entre 1 y 3 horas', 'No Navega Internet', 'Entre 30 y 60 minutos',\n",
              "       'Más de 3 horas', '30 minutos o menos', '-'], dtype=object)"
            ]
          },
          "metadata": {},
          "execution_count": 51
        }
      ]
    },
    {
      "cell_type": "markdown",
      "source": [
        "* Dedicación tiempo de lectura:\n",
        "    - '-', 30 minutos o menos⛔\n",
        "    -  No leo por entretenimiento⭕\n",
        "    - Entre 30 y 60 minutos, Entre 1 y 2 horas, Más de 2 horas  ✅"
      ],
      "metadata": {
        "id": "ptDg9dvb4Qrv"
      }
    },
    {
      "cell_type": "code",
      "source": [
        "df_clean['ESTU_DEDICACIONLECTURADIARIA'].unique()"
      ],
      "metadata": {
        "id": "OOf6UiYX4P_L",
        "colab": {
          "base_uri": "https://localhost:8080/"
        },
        "outputId": "2741b41d-02ab-4544-973c-28224d230176"
      },
      "execution_count": null,
      "outputs": [
        {
          "output_type": "execute_result",
          "data": {
            "text/plain": [
              "array(['Entre 30 y 60 minutos', 'No leo por entretenimiento',\n",
              "       '30 minutos o menos', 'Entre 1 y 2 horas', 'Más de 2 horas', '-'],\n",
              "      dtype=object)"
            ]
          },
          "metadata": {},
          "execution_count": 10
        }
      ]
    },
    {
      "cell_type": "markdown",
      "source": [
        "### Salud"
      ],
      "metadata": {
        "id": "FEnW0eIS2d4s"
      }
    },
    {
      "cell_type": "markdown",
      "source": [
        "* Consumo de alimnetos por categorias (lacteos, legumbres y verduras, carnes):\n",
        "  -   1 y 0 ⛔\n",
        "  -  2⭕\n",
        "  - 3 ✅\n",
        "Se parametrizaran solo teniendo en cuenta si consume el producto o no lo consume."
      ],
      "metadata": {
        "id": "rQsg1ltfFTTM"
      }
    },
    {
      "cell_type": "code",
      "source": [
        "df_clean['FAMI_COMELECHEDERIVADOS'].unique()"
      ],
      "metadata": {
        "colab": {
          "base_uri": "https://localhost:8080/"
        },
        "id": "i78wZWBXQyoF",
        "outputId": "65f79b9a-ebb9-4eb8-9f4c-96d15fdb7dbc"
      },
      "execution_count": null,
      "outputs": [
        {
          "output_type": "execute_result",
          "data": {
            "text/plain": [
              "array(['1 o 2 veces por semana', '3 a 5 veces por semana',\n",
              "       'Nunca o rara vez comemos eso', 'Todos o casi todos los días', '-'],\n",
              "      dtype=object)"
            ]
          },
          "metadata": {},
          "execution_count": 52
        }
      ]
    },
    {
      "cell_type": "code",
      "source": [
        "df_clean['FAMI_COMEFRUTOSLEGUMBRE'].unique()"
      ],
      "metadata": {
        "colab": {
          "base_uri": "https://localhost:8080/"
        },
        "id": "R5NIbq68QzSR",
        "outputId": "0209bec1-4fa3-4155-9786-76f2f5b2b815"
      },
      "execution_count": null,
      "outputs": [
        {
          "output_type": "execute_result",
          "data": {
            "text/plain": [
              "array(['Nunca o rara vez comemos eso', '1 o 2 veces por semana',\n",
              "       '3 a 5 veces por semana', 'Todos o casi todos los días', '-'],\n",
              "      dtype=object)"
            ]
          },
          "metadata": {},
          "execution_count": 16
        }
      ]
    },
    {
      "cell_type": "code",
      "source": [
        "df_clean['FAMI_COMECARNEPESCADOHUEVO'].unique()"
      ],
      "metadata": {
        "colab": {
          "base_uri": "https://localhost:8080/"
        },
        "id": "_y7jJoBKQzFl",
        "outputId": "215d45ba-9523-4fec-99c3-b7c9e82c05e8"
      },
      "execution_count": null,
      "outputs": [
        {
          "output_type": "execute_result",
          "data": {
            "text/plain": [
              "array(['1 o 2 veces por semana', 'Todos o casi todos los días',\n",
              "       '3 a 5 veces por semana', 'Nunca o rara vez comemos eso', '-'],\n",
              "      dtype=object)"
            ]
          },
          "metadata": {},
          "execution_count": 53
        }
      ]
    },
    {
      "cell_type": "markdown",
      "source": [
        "### Calculos y creación\n",
        "Con los datos limpios y listos para trabajar se hacen los calculos por cada sub-categoria"
      ],
      "metadata": {
        "id": "2UBiR9QRd8Us"
      }
    },
    {
      "cell_type": "markdown",
      "source": [
        "1. se define la clase abstracta principal que servira de pilar para el calculo de las categorias mencionadas:"
      ],
      "metadata": {
        "id": "vVzcnYizMDqQ"
      }
    },
    {
      "cell_type": "code",
      "source": [
        "from abc import abstractmethod\n",
        "class Categoria:\n",
        "  \n",
        "  @abstractmethod\n",
        "  def cal_total(self):\n",
        "    pass\n",
        "  @abstractmethod\n",
        "  def reiniciar_data(self):\n",
        "    pass"
      ],
      "metadata": {
        "id": "vG2NQ4_2wmfb"
      },
      "execution_count": null,
      "outputs": []
    },
    {
      "cell_type": "markdown",
      "source": [
        "2. Creamos las subclases por cada categoria y reescribimos los metodos implementados"
      ],
      "metadata": {
        "id": "9n1bkTKaMRW5"
      }
    },
    {
      "cell_type": "code",
      "source": [
        "#categoria educacion con tres parametros a evaluar: puntaje global, horas de internet y horas de lectura\n",
        "class Educacion(Categoria): \n",
        "  def __init__(self):\n",
        "      super().__init__()\n",
        "      self.score_global = 0\n",
        "      self.hour_int = 0\n",
        "      self.hour_read = 0\n",
        "  def set_registers(self, score_global, hour_int, hour_read) :\n",
        "      aux_score = int(score_global)\n",
        "      if aux_score > 350 :\n",
        "        self.score_global = 1\n",
        "      elif aux_score > 250 :\n",
        "        self.score_global = 0.5 \n",
        "      else :\n",
        "        self.score_global = 0\n",
        "      if hour_int == \"Entre 30 y 60 minutos\" or hour_int == \"Entre 1 y 3 horas\":        \n",
        "        self.hour_int = 1\n",
        "      elif hour_int == \"Más de 3 horas\" or hour_int == \"30 minutos o menos\":\n",
        "        self.hour_int = 0.5\n",
        "      else :\n",
        "        self.hour_int = 0\n",
        "      if hour_read == \"Entre 30 y 60 minutos\" or hour_read == \"Entre 1 y 2 horas\" or hour_read == \"Más de 2 horas\":\n",
        "        self.hour_read = 1\n",
        "      elif hour_read == \"No leo por entretenimiento\":\n",
        "        self.hour_read = 0.5\n",
        "      else :\n",
        "        self.hour_read = 0\n",
        "  def reiniciar_data(self):\n",
        "      self.score_global = 0\n",
        "      self.hour_int = 0\n",
        "      self.hour_read = 0\n",
        "  def cal_total(self):\n",
        "      return (self.score_global + self.hour_int + self.hour_read)/3\n",
        "#categoria economia con dos parametros a evaluar: estrato,  y estado economico\n",
        "class Economia(Categoria): \n",
        "  def __init__(self):\n",
        "      super().__init__()\n",
        "      self.estrato = 0\n",
        "      self.nivel_eco = 0\n",
        "  def set_registers(self, estrato, nivel_eco) :\n",
        "      aux_score = int(estrato)\n",
        "      if aux_score >= 4 :\n",
        "        self.estrato = 1\n",
        "      elif aux_score == 3 :\n",
        "        self.estrato = 0.5 \n",
        "      else :\n",
        "        self.estrato = 0\n",
        "      if nivel_eco == \"Mejor\":        \n",
        "        self.nivel_eco = 1\n",
        "      elif nivel_eco == \"Igual\":\n",
        "        self.nivel_eco = 0.5\n",
        "      else :\n",
        "        self.nivel_eco = 0\n",
        "  def reiniciar_data(self):\n",
        "      self.estrato = 0\n",
        "      self.nivel_eco = 0\n",
        "  def cal_total(self):\n",
        "      return (self.estrato + self.nivel_eco)/2\n",
        "#categoria bienestar con tres parametros a evaluar: #personas convive,  y entretenimiento disponible\n",
        "class Bienestar(Categoria): \n",
        "  def __init__(self):\n",
        "      super().__init__()\n",
        "      self.per_convive = 0\n",
        "      self.total_entre = 0\n",
        "  def set_registers(self, per_convive, nivel_eco, has_tv, has_int, has_vg, has_lb) :\n",
        "      aux_score = int(per_convive)\n",
        "      if aux_score >= 5 and (nivel_eco == \"Mejor\" or nivel_eco == \"Igual\"):\n",
        "        self.per_convive = 1\n",
        "      elif aux_score == 3 and (nivel_eco == \"Mejor\" or nivel_eco == \"Igual\"):\n",
        "        self.per_convive = 0.5 \n",
        "      else :\n",
        "        self.per_convive = 0\n",
        "      if has_tv == 'Si':\n",
        "          self.total_entre = 1\n",
        "      if has_int == 'Si':\n",
        "          self.total_entre = 1\n",
        "      if has_vg == 'Si':\n",
        "          self.total_entre = 1                    \n",
        "      if has_lb != \"0 A 10 LIBROS\" and has_lb != \"-\":\n",
        "          self.total_entre = 1                    \n",
        "      self.total_entre = (1 if self.total_entre >= 3 else 0 )\n",
        "  def reiniciar_data(self):\n",
        "      self.per_convive = 0\n",
        "      self.total_entre = 0\n",
        "  def cal_total(self):\n",
        "      return (self.per_convive + self.total_entre)/2      \n",
        "#categoria salud con un parametro a evaluar: alimentos\n",
        "class Salud(Categoria): \n",
        "  def __init__(self):\n",
        "      super().__init__()\n",
        "      self.total_meal = 0\n",
        "      \n",
        "  def set_registers(self, eat_veg, eat_meat, eat_milk) :\n",
        "      aux_arr = [eat_veg, eat_meat, eat_milk]\n",
        "      aux_right = aux_arr.count('Todo o casi todos los días') + aux_arr.count('3 a 5 veces por semana')\n",
        "      aux_regular = aux_arr.count('1 o 2 veces por semana')\n",
        "      if aux_right > 2 :\n",
        "        self.total_meal = 1\n",
        "      elif (aux_right > 0 and aux_regular > 1) or aux_regular == 3 :\n",
        "        self.total_meal = 0.5\n",
        "      else:\n",
        "        self.total_meal = 0\n",
        "  def reiniciar_data(self):\n",
        "      self.total_meal = 0\n",
        "\n",
        "  def cal_total(self):\n",
        "      return self.total_meal\n",
        "  "
      ],
      "metadata": {
        "id": "w96s9IXgw7kN"
      },
      "execution_count": null,
      "outputs": []
    },
    {
      "cell_type": "markdown",
      "source": [
        "3. Se instancian los objetos creados anteriormentente para la creación de los indices por categoria"
      ],
      "metadata": {
        "id": "MZFHexRHVWFT"
      }
    },
    {
      "cell_type": "code",
      "source": [
        "df_clean.index"
      ],
      "metadata": {
        "colab": {
          "base_uri": "https://localhost:8080/"
        },
        "id": "2-6GQpuiN_g8",
        "outputId": "ff7c6ea3-c9b5-4631-d596-f88d92e8cb95"
      },
      "execution_count": null,
      "outputs": [
        {
          "output_type": "execute_result",
          "data": {
            "text/plain": [
              "Int64Index([    0,     1,     2,     4,     5,     6,     7,     8,     9,\n",
              "               10,\n",
              "            ...\n",
              "            65525, 65526, 65527, 65528, 65529, 65530, 65531, 65532, 65533,\n",
              "            65534],\n",
              "           dtype='int64', length=58145)"
            ]
          },
          "metadata": {},
          "execution_count": 9
        }
      ]
    },
    {
      "cell_type": "code",
      "source": [
        "test_edu = Educacion()\n",
        "test_eco = Economia()\n",
        "test_wel = Bienestar()\n",
        "test_salud = Salud()\n",
        "df_clean['INDICE_EDU'] = np.zeros(df_clean.shape[0]) \n",
        "df_clean['INDICE_ECO'] = np.zeros(df_clean.shape[0]) \n",
        "df_clean['INDICE_WEL'] = np.zeros(df_clean.shape[0]) \n",
        "df_clean['INDICE_SAL'] = np.zeros(df_clean.shape[0]) \n",
        "for index in df_clean.index:\n",
        "  test_edu.set_registers(df_clean['PUNT_GLOBAL'][index],df_clean['ESTU_DEDICACIONINTERNET'][index],df_clean['ESTU_DEDICACIONLECTURADIARIA'][index])\n",
        "  test_eco.set_registers(df_clean['FAMI_ESTRATOVIVIENDA'][index],df_clean['FAMI_SITUACIONECONOMICA'][index])\n",
        "  test_wel.set_registers(df_clean['FAMI_PERSONASHOGAR'][index],df_clean['FAMI_SITUACIONECONOMICA'][index], df_clean['FAMI_TIENESERVICIOTV'][index], df_clean['FAMI_TIENEINTERNET'][index], df_clean['FAMI_TIENECONSOLAVIDEOJUEGOS'][index], df_clean['FAMI_NUMLIBROS'][index])\n",
        "  test_salud.set_registers(df_clean['FAMI_COMECEREALFRUTOSLEGUMBRE'][index],df_clean['FAMI_COMECARNEPESCADOHUEVO'][index], df_clean['FAMI_COMELECHEDERIVADOS'][index])  \n",
        "  df_clean.at[index,'INDICE_EDU'] = test_edu.cal_total()\n",
        "  df_clean.at[index,'INDICE_ECO'] = test_eco.cal_total()\n",
        "  df_clean.at[index,'INDICE_WEL'] = test_wel.cal_total()\n",
        "  df_clean.at[index,'INDICE_SAL'] = test_salud.cal_total()\n",
        "df_clean\n",
        "\n"
      ],
      "metadata": {
        "id": "Mc_RSyZuefjq",
        "colab": {
          "base_uri": "https://localhost:8080/",
          "height": 574
        },
        "outputId": "f1381ab6-5beb-4dcf-d9db-f652614bc7a9"
      },
      "execution_count": null,
      "outputs": [
        {
          "output_type": "execute_result",
          "data": {
            "text/plain": [
              "      ESTU_GENERO ESTU_FECHANACIMIENTO ESTU_TIENEETNIA FAMI_ESTRATOVIVIENDA  \\\n",
              "0               F             1/9/2004              No                    1   \n",
              "1               M             4/6/2005              No                    2   \n",
              "2               F            3/28/2004              No                    2   \n",
              "4               F           11/16/2004              No                    2   \n",
              "5               F             1/5/2004              Si                    1   \n",
              "...           ...                  ...             ...                  ...   \n",
              "65530           F            8/13/2003              No                    2   \n",
              "65531           F            1/18/2005              No                    2   \n",
              "65532           F            1/19/2005              No                    3   \n",
              "65533           M            2/15/2004              No                    2   \n",
              "65534           F             2/7/2005              No                    3   \n",
              "\n",
              "      FAMI_PERSONASHOGAR FAMI_TIENEINTERNET FAMI_TIENESERVICIOTV  \\\n",
              "0                      3                 No                   No   \n",
              "1                      5                 No                   Si   \n",
              "2                      7                 No                   No   \n",
              "4                      7                 Si                   Si   \n",
              "5                      7                 No                   Si   \n",
              "...                  ...                ...                  ...   \n",
              "65530                  5                  -                   Si   \n",
              "65531                  3                 Si                   No   \n",
              "65532                  3                 Si                   Si   \n",
              "65533                  3                 Si                   Si   \n",
              "65534                  3                 Si                   Si   \n",
              "\n",
              "      FAMI_TIENECONSOLAVIDEOJUEGOS   FAMI_NUMLIBROS  \\\n",
              "0                               Si  26 A 100 LIBROS   \n",
              "1                               No  26 A 100 LIBROS   \n",
              "2                               No    0 A 10 LIBROS   \n",
              "4                               No    0 A 10 LIBROS   \n",
              "5                               No    0 A 10 LIBROS   \n",
              "...                            ...              ...   \n",
              "65530                           No  26 A 100 LIBROS   \n",
              "65531                           No    0 A 10 LIBROS   \n",
              "65532                           Si  26 A 100 LIBROS   \n",
              "65533                           Si    0 A 10 LIBROS   \n",
              "65534                           No   11 A 25 LIBROS   \n",
              "\n",
              "            FAMI_COMELECHEDERIVADOS  ... ESTU_DEDICACIONLECTURADIARIA  \\\n",
              "0            1 o 2 veces por semana  ...        Entre 30 y 60 minutos   \n",
              "1            1 o 2 veces por semana  ...   No leo por entretenimiento   \n",
              "2            3 a 5 veces por semana  ...        Entre 30 y 60 minutos   \n",
              "4            3 a 5 veces por semana  ...           30 minutos o menos   \n",
              "5      Nunca o rara vez comemos eso  ...           30 minutos o menos   \n",
              "...                             ...  ...                          ...   \n",
              "65530        1 o 2 veces por semana  ...           30 minutos o menos   \n",
              "65531        3 a 5 veces por semana  ...        Entre 30 y 60 minutos   \n",
              "65532   Todos o casi todos los días  ...           30 minutos o menos   \n",
              "65533        3 a 5 veces por semana  ...   No leo por entretenimiento   \n",
              "65534   Todos o casi todos los días  ...           30 minutos o menos   \n",
              "\n",
              "      ESTU_DEDICACIONINTERNET COLE_GENERO COLE_JORNADA PUNT_GLOBAL EDAD  \\\n",
              "0           Entre 1 y 3 horas       MIXTO       MAÑANA         158   18   \n",
              "1          No Navega Internet       MIXTO       MAÑANA         179   17   \n",
              "2           Entre 1 y 3 horas       MIXTO       MAÑANA         239   18   \n",
              "4           Entre 1 y 3 horas       MIXTO        UNICA         270   17   \n",
              "5       Entre 30 y 60 minutos       MIXTO     COMPLETA         237   18   \n",
              "...                       ...         ...          ...         ...  ...   \n",
              "65530   Entre 30 y 60 minutos       MIXTO       MAÑANA         236   18   \n",
              "65531          Más de 3 horas       MIXTO     COMPLETA         297   17   \n",
              "65532       Entre 1 y 3 horas       MIXTO     COMPLETA         347   17   \n",
              "65533          Más de 3 horas       MIXTO       MAÑANA         250   18   \n",
              "65534       Entre 1 y 3 horas       MIXTO       MAÑANA         302   17   \n",
              "\n",
              "      INDICE_EDU  INDICE_ECO INDICE_WEL  INDICE_SAL  \n",
              "0       0.666667        0.25       0.25         0.5  \n",
              "1       0.166667        0.25       0.50         0.0  \n",
              "2       0.666667        0.25       0.50         0.0  \n",
              "4       0.500000        0.25       0.50         0.5  \n",
              "5       0.333333        0.50       0.50         0.0  \n",
              "...          ...         ...        ...         ...  \n",
              "65530   0.333333        0.50       0.50         0.0  \n",
              "65531   0.666667        0.25       0.25         1.0  \n",
              "65532   0.500000        0.75       0.25         0.0  \n",
              "65533   0.333333        0.00       0.00         0.0  \n",
              "65534   0.500000        0.50       0.25         0.0  \n",
              "\n",
              "[58145 rows x 23 columns]"
            ],
            "text/html": [
              "\n",
              "  <div id=\"df-9e46298f-4397-42cd-800b-eb308f2510cc\">\n",
              "    <div class=\"colab-df-container\">\n",
              "      <div>\n",
              "<style scoped>\n",
              "    .dataframe tbody tr th:only-of-type {\n",
              "        vertical-align: middle;\n",
              "    }\n",
              "\n",
              "    .dataframe tbody tr th {\n",
              "        vertical-align: top;\n",
              "    }\n",
              "\n",
              "    .dataframe thead th {\n",
              "        text-align: right;\n",
              "    }\n",
              "</style>\n",
              "<table border=\"1\" class=\"dataframe\">\n",
              "  <thead>\n",
              "    <tr style=\"text-align: right;\">\n",
              "      <th></th>\n",
              "      <th>ESTU_GENERO</th>\n",
              "      <th>ESTU_FECHANACIMIENTO</th>\n",
              "      <th>ESTU_TIENEETNIA</th>\n",
              "      <th>FAMI_ESTRATOVIVIENDA</th>\n",
              "      <th>FAMI_PERSONASHOGAR</th>\n",
              "      <th>FAMI_TIENEINTERNET</th>\n",
              "      <th>FAMI_TIENESERVICIOTV</th>\n",
              "      <th>FAMI_TIENECONSOLAVIDEOJUEGOS</th>\n",
              "      <th>FAMI_NUMLIBROS</th>\n",
              "      <th>FAMI_COMELECHEDERIVADOS</th>\n",
              "      <th>...</th>\n",
              "      <th>ESTU_DEDICACIONLECTURADIARIA</th>\n",
              "      <th>ESTU_DEDICACIONINTERNET</th>\n",
              "      <th>COLE_GENERO</th>\n",
              "      <th>COLE_JORNADA</th>\n",
              "      <th>PUNT_GLOBAL</th>\n",
              "      <th>EDAD</th>\n",
              "      <th>INDICE_EDU</th>\n",
              "      <th>INDICE_ECO</th>\n",
              "      <th>INDICE_WEL</th>\n",
              "      <th>INDICE_SAL</th>\n",
              "    </tr>\n",
              "  </thead>\n",
              "  <tbody>\n",
              "    <tr>\n",
              "      <th>0</th>\n",
              "      <td>F</td>\n",
              "      <td>1/9/2004</td>\n",
              "      <td>No</td>\n",
              "      <td>1</td>\n",
              "      <td>3</td>\n",
              "      <td>No</td>\n",
              "      <td>No</td>\n",
              "      <td>Si</td>\n",
              "      <td>26 A 100 LIBROS</td>\n",
              "      <td>1 o 2 veces por semana</td>\n",
              "      <td>...</td>\n",
              "      <td>Entre 30 y 60 minutos</td>\n",
              "      <td>Entre 1 y 3 horas</td>\n",
              "      <td>MIXTO</td>\n",
              "      <td>MAÑANA</td>\n",
              "      <td>158</td>\n",
              "      <td>18</td>\n",
              "      <td>0.666667</td>\n",
              "      <td>0.25</td>\n",
              "      <td>0.25</td>\n",
              "      <td>0.5</td>\n",
              "    </tr>\n",
              "    <tr>\n",
              "      <th>1</th>\n",
              "      <td>M</td>\n",
              "      <td>4/6/2005</td>\n",
              "      <td>No</td>\n",
              "      <td>2</td>\n",
              "      <td>5</td>\n",
              "      <td>No</td>\n",
              "      <td>Si</td>\n",
              "      <td>No</td>\n",
              "      <td>26 A 100 LIBROS</td>\n",
              "      <td>1 o 2 veces por semana</td>\n",
              "      <td>...</td>\n",
              "      <td>No leo por entretenimiento</td>\n",
              "      <td>No Navega Internet</td>\n",
              "      <td>MIXTO</td>\n",
              "      <td>MAÑANA</td>\n",
              "      <td>179</td>\n",
              "      <td>17</td>\n",
              "      <td>0.166667</td>\n",
              "      <td>0.25</td>\n",
              "      <td>0.50</td>\n",
              "      <td>0.0</td>\n",
              "    </tr>\n",
              "    <tr>\n",
              "      <th>2</th>\n",
              "      <td>F</td>\n",
              "      <td>3/28/2004</td>\n",
              "      <td>No</td>\n",
              "      <td>2</td>\n",
              "      <td>7</td>\n",
              "      <td>No</td>\n",
              "      <td>No</td>\n",
              "      <td>No</td>\n",
              "      <td>0 A 10 LIBROS</td>\n",
              "      <td>3 a 5 veces por semana</td>\n",
              "      <td>...</td>\n",
              "      <td>Entre 30 y 60 minutos</td>\n",
              "      <td>Entre 1 y 3 horas</td>\n",
              "      <td>MIXTO</td>\n",
              "      <td>MAÑANA</td>\n",
              "      <td>239</td>\n",
              "      <td>18</td>\n",
              "      <td>0.666667</td>\n",
              "      <td>0.25</td>\n",
              "      <td>0.50</td>\n",
              "      <td>0.0</td>\n",
              "    </tr>\n",
              "    <tr>\n",
              "      <th>4</th>\n",
              "      <td>F</td>\n",
              "      <td>11/16/2004</td>\n",
              "      <td>No</td>\n",
              "      <td>2</td>\n",
              "      <td>7</td>\n",
              "      <td>Si</td>\n",
              "      <td>Si</td>\n",
              "      <td>No</td>\n",
              "      <td>0 A 10 LIBROS</td>\n",
              "      <td>3 a 5 veces por semana</td>\n",
              "      <td>...</td>\n",
              "      <td>30 minutos o menos</td>\n",
              "      <td>Entre 1 y 3 horas</td>\n",
              "      <td>MIXTO</td>\n",
              "      <td>UNICA</td>\n",
              "      <td>270</td>\n",
              "      <td>17</td>\n",
              "      <td>0.500000</td>\n",
              "      <td>0.25</td>\n",
              "      <td>0.50</td>\n",
              "      <td>0.5</td>\n",
              "    </tr>\n",
              "    <tr>\n",
              "      <th>5</th>\n",
              "      <td>F</td>\n",
              "      <td>1/5/2004</td>\n",
              "      <td>Si</td>\n",
              "      <td>1</td>\n",
              "      <td>7</td>\n",
              "      <td>No</td>\n",
              "      <td>Si</td>\n",
              "      <td>No</td>\n",
              "      <td>0 A 10 LIBROS</td>\n",
              "      <td>Nunca o rara vez comemos eso</td>\n",
              "      <td>...</td>\n",
              "      <td>30 minutos o menos</td>\n",
              "      <td>Entre 30 y 60 minutos</td>\n",
              "      <td>MIXTO</td>\n",
              "      <td>COMPLETA</td>\n",
              "      <td>237</td>\n",
              "      <td>18</td>\n",
              "      <td>0.333333</td>\n",
              "      <td>0.50</td>\n",
              "      <td>0.50</td>\n",
              "      <td>0.0</td>\n",
              "    </tr>\n",
              "    <tr>\n",
              "      <th>...</th>\n",
              "      <td>...</td>\n",
              "      <td>...</td>\n",
              "      <td>...</td>\n",
              "      <td>...</td>\n",
              "      <td>...</td>\n",
              "      <td>...</td>\n",
              "      <td>...</td>\n",
              "      <td>...</td>\n",
              "      <td>...</td>\n",
              "      <td>...</td>\n",
              "      <td>...</td>\n",
              "      <td>...</td>\n",
              "      <td>...</td>\n",
              "      <td>...</td>\n",
              "      <td>...</td>\n",
              "      <td>...</td>\n",
              "      <td>...</td>\n",
              "      <td>...</td>\n",
              "      <td>...</td>\n",
              "      <td>...</td>\n",
              "      <td>...</td>\n",
              "    </tr>\n",
              "    <tr>\n",
              "      <th>65530</th>\n",
              "      <td>F</td>\n",
              "      <td>8/13/2003</td>\n",
              "      <td>No</td>\n",
              "      <td>2</td>\n",
              "      <td>5</td>\n",
              "      <td>-</td>\n",
              "      <td>Si</td>\n",
              "      <td>No</td>\n",
              "      <td>26 A 100 LIBROS</td>\n",
              "      <td>1 o 2 veces por semana</td>\n",
              "      <td>...</td>\n",
              "      <td>30 minutos o menos</td>\n",
              "      <td>Entre 30 y 60 minutos</td>\n",
              "      <td>MIXTO</td>\n",
              "      <td>MAÑANA</td>\n",
              "      <td>236</td>\n",
              "      <td>18</td>\n",
              "      <td>0.333333</td>\n",
              "      <td>0.50</td>\n",
              "      <td>0.50</td>\n",
              "      <td>0.0</td>\n",
              "    </tr>\n",
              "    <tr>\n",
              "      <th>65531</th>\n",
              "      <td>F</td>\n",
              "      <td>1/18/2005</td>\n",
              "      <td>No</td>\n",
              "      <td>2</td>\n",
              "      <td>3</td>\n",
              "      <td>Si</td>\n",
              "      <td>No</td>\n",
              "      <td>No</td>\n",
              "      <td>0 A 10 LIBROS</td>\n",
              "      <td>3 a 5 veces por semana</td>\n",
              "      <td>...</td>\n",
              "      <td>Entre 30 y 60 minutos</td>\n",
              "      <td>Más de 3 horas</td>\n",
              "      <td>MIXTO</td>\n",
              "      <td>COMPLETA</td>\n",
              "      <td>297</td>\n",
              "      <td>17</td>\n",
              "      <td>0.666667</td>\n",
              "      <td>0.25</td>\n",
              "      <td>0.25</td>\n",
              "      <td>1.0</td>\n",
              "    </tr>\n",
              "    <tr>\n",
              "      <th>65532</th>\n",
              "      <td>F</td>\n",
              "      <td>1/19/2005</td>\n",
              "      <td>No</td>\n",
              "      <td>3</td>\n",
              "      <td>3</td>\n",
              "      <td>Si</td>\n",
              "      <td>Si</td>\n",
              "      <td>Si</td>\n",
              "      <td>26 A 100 LIBROS</td>\n",
              "      <td>Todos o casi todos los días</td>\n",
              "      <td>...</td>\n",
              "      <td>30 minutos o menos</td>\n",
              "      <td>Entre 1 y 3 horas</td>\n",
              "      <td>MIXTO</td>\n",
              "      <td>COMPLETA</td>\n",
              "      <td>347</td>\n",
              "      <td>17</td>\n",
              "      <td>0.500000</td>\n",
              "      <td>0.75</td>\n",
              "      <td>0.25</td>\n",
              "      <td>0.0</td>\n",
              "    </tr>\n",
              "    <tr>\n",
              "      <th>65533</th>\n",
              "      <td>M</td>\n",
              "      <td>2/15/2004</td>\n",
              "      <td>No</td>\n",
              "      <td>2</td>\n",
              "      <td>3</td>\n",
              "      <td>Si</td>\n",
              "      <td>Si</td>\n",
              "      <td>Si</td>\n",
              "      <td>0 A 10 LIBROS</td>\n",
              "      <td>3 a 5 veces por semana</td>\n",
              "      <td>...</td>\n",
              "      <td>No leo por entretenimiento</td>\n",
              "      <td>Más de 3 horas</td>\n",
              "      <td>MIXTO</td>\n",
              "      <td>MAÑANA</td>\n",
              "      <td>250</td>\n",
              "      <td>18</td>\n",
              "      <td>0.333333</td>\n",
              "      <td>0.00</td>\n",
              "      <td>0.00</td>\n",
              "      <td>0.0</td>\n",
              "    </tr>\n",
              "    <tr>\n",
              "      <th>65534</th>\n",
              "      <td>F</td>\n",
              "      <td>2/7/2005</td>\n",
              "      <td>No</td>\n",
              "      <td>3</td>\n",
              "      <td>3</td>\n",
              "      <td>Si</td>\n",
              "      <td>Si</td>\n",
              "      <td>No</td>\n",
              "      <td>11 A 25 LIBROS</td>\n",
              "      <td>Todos o casi todos los días</td>\n",
              "      <td>...</td>\n",
              "      <td>30 minutos o menos</td>\n",
              "      <td>Entre 1 y 3 horas</td>\n",
              "      <td>MIXTO</td>\n",
              "      <td>MAÑANA</td>\n",
              "      <td>302</td>\n",
              "      <td>17</td>\n",
              "      <td>0.500000</td>\n",
              "      <td>0.50</td>\n",
              "      <td>0.25</td>\n",
              "      <td>0.0</td>\n",
              "    </tr>\n",
              "  </tbody>\n",
              "</table>\n",
              "<p>58145 rows × 23 columns</p>\n",
              "</div>\n",
              "      <button class=\"colab-df-convert\" onclick=\"convertToInteractive('df-9e46298f-4397-42cd-800b-eb308f2510cc')\"\n",
              "              title=\"Convert this dataframe to an interactive table.\"\n",
              "              style=\"display:none;\">\n",
              "        \n",
              "  <svg xmlns=\"http://www.w3.org/2000/svg\" height=\"24px\"viewBox=\"0 0 24 24\"\n",
              "       width=\"24px\">\n",
              "    <path d=\"M0 0h24v24H0V0z\" fill=\"none\"/>\n",
              "    <path d=\"M18.56 5.44l.94 2.06.94-2.06 2.06-.94-2.06-.94-.94-2.06-.94 2.06-2.06.94zm-11 1L8.5 8.5l.94-2.06 2.06-.94-2.06-.94L8.5 2.5l-.94 2.06-2.06.94zm10 10l.94 2.06.94-2.06 2.06-.94-2.06-.94-.94-2.06-.94 2.06-2.06.94z\"/><path d=\"M17.41 7.96l-1.37-1.37c-.4-.4-.92-.59-1.43-.59-.52 0-1.04.2-1.43.59L10.3 9.45l-7.72 7.72c-.78.78-.78 2.05 0 2.83L4 21.41c.39.39.9.59 1.41.59.51 0 1.02-.2 1.41-.59l7.78-7.78 2.81-2.81c.8-.78.8-2.07 0-2.86zM5.41 20L4 18.59l7.72-7.72 1.47 1.35L5.41 20z\"/>\n",
              "  </svg>\n",
              "      </button>\n",
              "      \n",
              "  <style>\n",
              "    .colab-df-container {\n",
              "      display:flex;\n",
              "      flex-wrap:wrap;\n",
              "      gap: 12px;\n",
              "    }\n",
              "\n",
              "    .colab-df-convert {\n",
              "      background-color: #E8F0FE;\n",
              "      border: none;\n",
              "      border-radius: 50%;\n",
              "      cursor: pointer;\n",
              "      display: none;\n",
              "      fill: #1967D2;\n",
              "      height: 32px;\n",
              "      padding: 0 0 0 0;\n",
              "      width: 32px;\n",
              "    }\n",
              "\n",
              "    .colab-df-convert:hover {\n",
              "      background-color: #E2EBFA;\n",
              "      box-shadow: 0px 1px 2px rgba(60, 64, 67, 0.3), 0px 1px 3px 1px rgba(60, 64, 67, 0.15);\n",
              "      fill: #174EA6;\n",
              "    }\n",
              "\n",
              "    [theme=dark] .colab-df-convert {\n",
              "      background-color: #3B4455;\n",
              "      fill: #D2E3FC;\n",
              "    }\n",
              "\n",
              "    [theme=dark] .colab-df-convert:hover {\n",
              "      background-color: #434B5C;\n",
              "      box-shadow: 0px 1px 3px 1px rgba(0, 0, 0, 0.15);\n",
              "      filter: drop-shadow(0px 1px 2px rgba(0, 0, 0, 0.3));\n",
              "      fill: #FFFFFF;\n",
              "    }\n",
              "  </style>\n",
              "\n",
              "      <script>\n",
              "        const buttonEl =\n",
              "          document.querySelector('#df-9e46298f-4397-42cd-800b-eb308f2510cc button.colab-df-convert');\n",
              "        buttonEl.style.display =\n",
              "          google.colab.kernel.accessAllowed ? 'block' : 'none';\n",
              "\n",
              "        async function convertToInteractive(key) {\n",
              "          const element = document.querySelector('#df-9e46298f-4397-42cd-800b-eb308f2510cc');\n",
              "          const dataTable =\n",
              "            await google.colab.kernel.invokeFunction('convertToInteractive',\n",
              "                                                     [key], {});\n",
              "          if (!dataTable) return;\n",
              "\n",
              "          const docLinkHtml = 'Like what you see? Visit the ' +\n",
              "            '<a target=\"_blank\" href=https://colab.research.google.com/notebooks/data_table.ipynb>data table notebook</a>'\n",
              "            + ' to learn more about interactive tables.';\n",
              "          element.innerHTML = '';\n",
              "          dataTable['output_type'] = 'display_data';\n",
              "          await google.colab.output.renderOutput(dataTable, element);\n",
              "          const docLink = document.createElement('div');\n",
              "          docLink.innerHTML = docLinkHtml;\n",
              "          element.appendChild(docLink);\n",
              "        }\n",
              "      </script>\n",
              "    </div>\n",
              "  </div>\n",
              "  "
            ]
          },
          "metadata": {},
          "execution_count": 9
        }
      ]
    },
    {
      "cell_type": "markdown",
      "source": [
        "4. Finalmente se calcula el indice de felicidad teniendo los resultados anteriores."
      ],
      "metadata": {
        "id": "EElcLmnguXcY"
      }
    },
    {
      "cell_type": "code",
      "source": [
        "df_clean['INDICE_FELICIDAD'] = (df_clean['INDICE_ECO']+df_clean['INDICE_EDU']+df_clean['INDICE_WEL']+df_clean['INDICE_SAL'])/4\n",
        "df_clean['INDICE_FELICIDAD']"
      ],
      "metadata": {
        "colab": {
          "base_uri": "https://localhost:8080/"
        },
        "id": "dyaoo9rKulpx",
        "outputId": "15adbe2b-022d-4c9e-b4ea-a3ea0b3e04d2"
      },
      "execution_count": null,
      "outputs": [
        {
          "output_type": "execute_result",
          "data": {
            "text/plain": [
              "0        0.416667\n",
              "1        0.229167\n",
              "2        0.354167\n",
              "4        0.437500\n",
              "5        0.333333\n",
              "           ...   \n",
              "65530    0.333333\n",
              "65531    0.541667\n",
              "65532    0.375000\n",
              "65533    0.083333\n",
              "65534    0.312500\n",
              "Name: INDICE_FELICIDAD, Length: 58145, dtype: float64"
            ]
          },
          "metadata": {},
          "execution_count": 10
        }
      ]
    },
    {
      "cell_type": "code",
      "source": [
        ""
      ],
      "metadata": {
        "id": "zMtGUbAlv-qp"
      },
      "execution_count": null,
      "outputs": []
    },
    {
      "cell_type": "markdown",
      "source": [
        "##Analisis de resultados\n"
      ],
      "metadata": {
        "id": "U_OHgXr8vsdf"
      }
    },
    {
      "cell_type": "markdown",
      "source": [
        "* El indice de felicidad más alto, segun el datase fue de 0.83333\n",
        "* El indice de felicidad más bajo fue de 0.00\n",
        "* La media de los resultados fue de 0.308852 "
      ],
      "metadata": {
        "id": "3D7GbwufwX7H"
      }
    },
    {
      "cell_type": "code",
      "source": [
        "df_clean['INDICE_FELICIDAD'].describe()"
      ],
      "metadata": {
        "colab": {
          "base_uri": "https://localhost:8080/"
        },
        "id": "T74lWjfCwBH0",
        "outputId": "78a56701-e844-4800-f9c0-0b82329dfb73"
      },
      "execution_count": null,
      "outputs": [
        {
          "output_type": "execute_result",
          "data": {
            "text/plain": [
              "count    58145.000000\n",
              "mean         0.308852\n",
              "std          0.117066\n",
              "min          0.000000\n",
              "25%          0.229167\n",
              "50%          0.312500\n",
              "75%          0.395833\n",
              "max          0.833333\n",
              "Name: INDICE_FELICIDAD, dtype: float64"
            ]
          },
          "metadata": {},
          "execution_count": 17
        }
      ]
    },
    {
      "cell_type": "markdown",
      "source": [
        "A continuación se presenta un contraste el promedio de cada indice de felicidad; donde se aprecia que la categoria de salud tuvo el indice más bajo y la de bienestar se encuentra en el más alto"
      ],
      "metadata": {
        "id": "CD7FRQ8IATrp"
      }
    },
    {
      "cell_type": "code",
      "source": [
        "df_clean['INDICE_ECO'].mean()\n",
        "y_eg_index = np.array([df_clean['INDICE_ECO'].mean(),df_clean['INDICE_EDU'].mean(),df_clean['INDICE_WEL'].mean(),df_clean['INDICE_SAL'].mean()])\n",
        "x_eg_index = np.array(['Economia','Bienestar','Educación','Salud'])\n",
        "plt.bar(x_eg_index,y_eg_index);\n",
        "plt.show()\n",
        "\n"
      ],
      "metadata": {
        "colab": {
          "base_uri": "https://localhost:8080/",
          "height": 265
        },
        "id": "QzmpSU_kyVsL",
        "outputId": "e3740afe-c652-4ea8-f55c-5f76c5c02b9b"
      },
      "execution_count": null,
      "outputs": [
        {
          "output_type": "display_data",
          "data": {
            "text/plain": [
              "<Figure size 432x288 with 1 Axes>"
            ],
            "image/png": "[encoded data removed]"
          },
          "metadata": {
            "needs_background": "light"
          }
        }
      ]
    },
    {
      "cell_type": "code",
      "source": [
        "feliz = df_clean[df_clean['INDICE_FELICIDAD'] > 0.6 ].shape[0]\n",
        "poco_feliz = df_clean[(df_clean['INDICE_FELICIDAD'] <= 0.6) & (df_clean['INDICE_FELICIDAD'] >= 0.3) ].shape[0]\n",
        "triste = df_clean[df_clean['INDICE_FELICIDAD'] < 0.3 ].shape[0]\n",
        "\n",
        "\n",
        "plt.pie([feliz, poco_feliz, triste],labels=[\"feliz\",\"neutral\",\"poco feliz\"])\n"
      ],
      "metadata": {
        "colab": {
          "base_uri": "https://localhost:8080/",
          "height": 359
        },
        "id": "kiIFPA72BUjj",
        "outputId": "063ff147-4511-4ca0-f659-49d2be6efb4d"
      },
      "execution_count": null,
      "outputs": [
        {
          "output_type": "execute_result",
          "data": {
            "text/plain": [
              "([<matplotlib.patches.Wedge at 0x7f6578b34350>,\n",
              "  <matplotlib.patches.Wedge at 0x7f6578b34690>,\n",
              "  <matplotlib.patches.Wedge at 0x7f6578b34750>],\n",
              " [Text(1.0992111002879617, 0.041652815075679826, 'feliz'),\n",
              "  Text(-0.10630870896802015, 1.0948508840922369, 'neutral'),\n",
              "  Text(0.06477467686924272, -1.0980911807479767, 'poco feliz')])"
            ]
          },
          "metadata": {},
          "execution_count": 41
        },
        {
          "output_type": "display_data",
          "data": {
            "text/plain": [
              "<Figure size 432x288 with 1 Axes>"
            ],
            "image/png": "[encoded data removed]"
          },
          "metadata": {}
        }
      ]
    },
    {
      "cell_type": "code",
      "source": [
        "pro_poco_feliz = (poco_feliz)/df_clean.shape[0]\n",
        "pro_feliz = (feliz)/df_clean.shape[0]\n",
        "pro_triste = (triste)/df_clean.shape[0]\n",
        "'poco feliz:'+str(pro_poco_feliz), 'feliz:' +str(pro_feliz), 'triste: ' + str(pro_triste)"
      ],
      "metadata": {
        "colab": {
          "base_uri": "https://localhost:8080/"
        },
        "id": "XMgpIlEFIiN0",
        "outputId": "a44e88a8-cb36-4dae-c9c0-29042afdb0a2"
      },
      "execution_count": null,
      "outputs": [
        {
          "output_type": "execute_result",
          "data": {
            "text/plain": [
              "('poco feliz:0.5066987703155903',\n",
              " 'feliz:0.012056066729727406',\n",
              " 'triste: 0.4812451629546823')"
            ]
          },
          "metadata": {},
          "execution_count": 50
        }
      ]
    },
    {
      "cell_type": "code",
      "source": [
        "df_clean['COLE_JORNADA'].unique()"
      ],
      "metadata": {
        "colab": {
          "base_uri": "https://localhost:8080/"
        },
        "id": "mFZCPbfmb-DE",
        "outputId": "3035f853-62ce-49e5-dde8-38360166f2aa"
      },
      "execution_count": null,
      "outputs": [
        {
          "output_type": "execute_result",
          "data": {
            "text/plain": [
              "array(['MAÑANA', 'UNICA', 'COMPLETA', 'NOCHE', 'SABATINA', 'TARDE'],\n",
              "      dtype=object)"
            ]
          },
          "metadata": {},
          "execution_count": 58
        }
      ]
    },
    {
      "cell_type": "markdown",
      "source": [
        "Por otro lado se estudio el puntaje de felicidad por genero encontrando el siguiente indicador"
      ],
      "metadata": {
        "id": "Dyi_VebNQM2t"
      }
    },
    {
      "cell_type": "code",
      "source": [
        "arr_mañana = df_clean[df_clean['COLE_JORNADA']=='MAÑANA'] \n",
        "arr_unica = df_clean[df_clean['COLE_JORNADA']=='UNICA']\n",
        "arr_completa = df_clean[df_clean['COLE_JORNADA']=='COMPLETA']\n",
        "arr_noche = df_clean[df_clean['COLE_JORNADA']=='NOCHE']\n",
        "arr_sabatina = df_clean[df_clean['COLE_JORNADA']=='SABATINA']\n",
        "arr_tarde = df_clean[df_clean['COLE_JORNADA']=='TARDE']\n",
        "plt.\n",
        "# plt.plot(df_global_f['EDAD'],df_global_f['INDICE_ECO'], marker='0',linestyle='--')\n",
        "# plt.plot(df_global_f['EDAD'],df_global_f['INDICE_EDU'], marker='0',linestyle='--')\n",
        "# plt.plot(df_global_f['EDAD'],df_global_f['INDICE_SAL'], marker='0',linestyle='--')\n",
        "# plt.plot(df_global_f['EDAD'],df_global_f['INDICE_WEL'], marker='0',linestyle='--')"
      ],
      "metadata": {
        "id": "jPP7GA3iNGIy"
      },
      "execution_count": null,
      "outputs": []
    },
    {
      "cell_type": "markdown",
      "source": [
        ""
      ],
      "metadata": {
        "id": "yuOtZv0EIe6z"
      }
    }
  ]
}